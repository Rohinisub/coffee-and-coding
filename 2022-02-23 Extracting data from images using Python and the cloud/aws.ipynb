{
 "cells": [
  {
   "cell_type": "code",
   "execution_count": null,
   "id": "f4e1a7cf-c789-4467-a7db-db459e4d28ca",
   "metadata": {},
   "outputs": [],
   "source": [
    "import boto3\n",
    "\n",
    "import cv2\n",
    "import matplotlib.pyplot as plt\n",
    "from matplotlib.patches import Polygon\n",
    "import matplotlib\n",
    "%matplotlib inline"
   ]
  },
  {
   "cell_type": "code",
   "execution_count": null,
   "id": "b4c5d697-0d91-40db-997d-81e7df4885d2",
   "metadata": {},
   "outputs": [],
   "source": [
    "# Amazon Textract client\n",
    "textract = boto3.client(\n",
    "    service_name='textract',\n",
    "    region_name='eu-west-2',\n",
    "    aws_access_key_id=None,\n",
    "    aws_secret_access_key=None\n",
    ")"
   ]
  },
  {
   "cell_type": "code",
   "execution_count": null,
   "id": "edd81fac-4ed5-4a02-9a57-2fd4255b2ca9",
   "metadata": {},
   "outputs": [],
   "source": [
    "# Get the image bytes\n",
    "with open(\"images/lazy_dog.jpg\", 'rb') as image:\n",
    "    image_bytes = image.read()\n",
    "    \n",
    "    \n",
    "# Call API\n",
    "result = textract.detect_document_text(\n",
    "    Document={'Bytes': image_bytes}\n",
    ")"
   ]
  },
  {
   "cell_type": "code",
   "execution_count": null,
   "id": "99dfcd1b",
   "metadata": {},
   "outputs": [],
   "source": [
    "result"
   ]
  },
  {
   "cell_type": "code",
   "execution_count": null,
   "id": "28c61eef-94d4-4a68-bbc6-ccc69caed62b",
   "metadata": {},
   "outputs": [],
   "source": [
    "# Print detected text\n",
    "for item in result[\"Blocks\"]:\n",
    "    if item[\"BlockType\"] == \"LINE\":\n",
    "        print(item[\"Geometry\"][\"Polygon\"])\n",
    "        print(item[\"Text\"])"
   ]
  },
  {
   "cell_type": "code",
   "execution_count": null,
   "id": "cabfdda1-4c2c-4186-82d4-137e31071a51",
   "metadata": {},
   "outputs": [],
   "source": [
    "# Display the image and overlay it with the extracted text.\n",
    "image = cv2.imread(\"images/lazy_dog.jpg\")\n",
    "ax = plt.imshow(image)\n",
    "\n",
    "for item in result[\"Blocks\"]:\n",
    "    if item[\"BlockType\"] == \"LINE\":\n",
    "    \n",
    "        # Extract the (x,y) coordinates from [{x0,y0},...,{x3,y3}]\n",
    "        bbox = item[\"Geometry\"][\"Polygon\"]\n",
    "        vertices = [\n",
    "            (bbox[i][\"X\"] * image.shape[1], bbox[i][\"Y\"] * image.shape[0]) \n",
    "            for i in range(0, 4)\n",
    "        ] # multiply by width / height as given as proportion\n",
    "        \n",
    "        # Draw on the polygon\n",
    "        patch = Polygon(vertices, closed=True, fill=False, linewidth=2, color='y')\n",
    "        ax.axes.add_patch(patch)\n",
    "\n",
    "        # Add the text\n",
    "        text = item[\"Text\"]\n",
    "        plt.text(vertices[0][0], vertices[0][1], text, fontsize=20, va=\"top\")\n",
    "\n",
    "plt.show()"
   ]
  }
 ],
 "metadata": {
  "kernelspec": {
   "display_name": "Python 3 (ipykernel)",
   "language": "python",
   "name": "python3"
  },
  "language_info": {
   "codemirror_mode": {
    "name": "ipython",
    "version": 3
   },
   "file_extension": ".py",
   "mimetype": "text/x-python",
   "name": "python",
   "nbconvert_exporter": "python",
   "pygments_lexer": "ipython3",
   "version": "3.9.7"
  }
 },
 "nbformat": 4,
 "nbformat_minor": 5
}
