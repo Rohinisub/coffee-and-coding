{
 "cells": [
  {
   "cell_type": "markdown",
   "metadata": {},
   "source": [
    "# Extracting data from images using Python and the cloud"
   ]
  },
  {
   "cell_type": "code",
   "execution_count": null,
   "metadata": {},
   "outputs": [],
   "source": [
    "import cv2\n",
    "import matplotlib.pyplot as plt\n",
    "import matplotlib\n",
    "%matplotlib inline"
   ]
  },
  {
   "cell_type": "markdown",
   "metadata": {},
   "source": [
    "## What is an image?\n",
    "\n",
    "A digital image is a matrix of pixels, each pixel represents the 'intensity' of the image at a spacial coordinate. In this session we will consider 3 types of images:\n",
    "\n",
    "### 1. Binary\n",
    "\n",
    "First off, lets look at a representation of a binary image. \n",
    "\n",
    "Each pixel is binary value and tells us whether it is white or black (here 0 = white and 1 = black but it is more common to find 0 = black and 1 = white). The pixels coordinates are the x, y location of the pixel in a 2D space.\n",
    "\n",
    "![title](images/binary_image.jpg)\n",
    "\n",
    "### 2. Grey-scale\n",
    "\n",
    "A grey-scale image is an advancement of a binary image. \n",
    "\n",
    "It has the same structure but the pixel now takes a value of between 0 and 255 depending on the intensity (0 = black to 255 = white).\n",
    "\n",
    "Why 0 to 255? Each pixel is represented by 1 byte = 8 bits = 2^8.\n",
    "\n",
    "![title](images/greyscale_image.png)\n",
    "\n",
    "### 3. Colour\n",
    "\n",
    "A colour image is an advancement of a grey-scale image.\n",
    "\n",
    "Instead of having it's colour defined by one 'channel', it is defined by three 'channels' (red green blue / RGB).\n",
    "\n",
    "![title](images/rgb_image.png)"
   ]
  },
  {
   "cell_type": "markdown",
   "metadata": {},
   "source": [
    "## What does an image look like in Python?\n",
    "\n",
    "I have chosen this image because (1) it is LGBT+ history week and (2) because it highlights one important thing to consider when working with images in Python.\n",
    "\n",
    "![title](images/flag.png)"
   ]
  },
  {
   "cell_type": "code",
   "execution_count": null,
   "metadata": {},
   "outputs": [],
   "source": [
    "# Read in the flag using cv2 (this reads as BGR) by default...\n",
    "img = cv2.imread(\"images/flag.png\")"
   ]
  },
  {
   "cell_type": "code",
   "execution_count": null,
   "metadata": {},
   "outputs": [],
   "source": [
    "# See what we have got\n",
    "img"
   ]
  },
  {
   "cell_type": "markdown",
   "metadata": {},
   "source": [
    "We can print some basic information about the image by checking it's type and shape."
   ]
  },
  {
   "cell_type": "code",
   "execution_count": null,
   "metadata": {},
   "outputs": [],
   "source": [
    "# Check the image matrix data type (could know the bit depth of the image)\n",
    "print(img.dtype)\n",
    "\n",
    "# Check the height / width / depth of image\n",
    "height, width, depth = img.shape\n",
    "print(height)\n",
    "print(width)\n",
    "print(depth)"
   ]
  },
  {
   "cell_type": "markdown",
   "metadata": {},
   "source": [
    "If we check the top right pixel of the image we will see that indeed it is a blue colour.\n",
    "\n",
    "https://www.rapidtables.com/web/color/RGB_Color.html"
   ]
  },
  {
   "cell_type": "code",
   "execution_count": null,
   "metadata": {},
   "outputs": [],
   "source": [
    "# Examine the top right pixel of the image\n",
    "img[0, width-1] # [B, G, R] = [ 35,  20, 248]"
   ]
  },
  {
   "cell_type": "markdown",
   "metadata": {},
   "source": [
    "This is because cv2 processes the image in BGR format, whereas we think of it as RGB format.\n",
    "\n",
    "To plot the image, we need to first determine it's actual size (as opposed to size in pixels) to help matplotlib to display it."
   ]
  },
  {
   "cell_type": "code",
   "execution_count": null,
   "metadata": {},
   "outputs": [],
   "source": [
    "# Acquire default dots per inch value of matplotlib\n",
    "dpi = matplotlib.rcParams['figure.dpi']\n",
    "\n",
    "# Determine the figures size in inches to fit the image\n",
    "figsize = width / float(dpi), height / float(dpi)"
   ]
  },
  {
   "cell_type": "code",
   "execution_count": null,
   "metadata": {},
   "outputs": [],
   "source": [
    "plt.figure(figsize=figsize)\n",
    "plt.imshow(img)\n",
    "plt.show()"
   ]
  },
  {
   "cell_type": "markdown",
   "metadata": {},
   "source": [
    "Notice the difference because the image has been read in using BGR format (default for openCV) instead of RGB format.\n",
    "\n",
    "We can reverse the channels from BGR -> RGB using a couple of techniques."
   ]
  },
  {
   "cell_type": "code",
   "execution_count": null,
   "metadata": {},
   "outputs": [],
   "source": [
    "# Reverse using built in openCV function\n",
    "plt.figure(figsize=figsize)\n",
    "plt.imshow(cv2.cvtColor(img, cv2.COLOR_BGR2RGB))\n",
    "plt.show()"
   ]
  },
  {
   "cell_type": "code",
   "execution_count": null,
   "metadata": {},
   "outputs": [],
   "source": [
    "# Reverse using numpy style \n",
    "plt.figure(figsize=figsize)\n",
    "plt.imshow(img[:,:,::-1])\n",
    "plt.show()"
   ]
  },
  {
   "cell_type": "markdown",
   "metadata": {},
   "source": [
    "Both achieve the same result and we can see now the rainbow colours in the image are displaying correctly, so let's make the change permanent and then examine the top right pixel again"
   ]
  },
  {
   "cell_type": "code",
   "execution_count": null,
   "metadata": {},
   "outputs": [],
   "source": [
    "# Swap the channel order from BGR -> RGB\n",
    "img = img[:,:,::-1]\n",
    "\n",
    "# Examine the top right pixel of the image (again)\n",
    "img[0, width-1] # [B, G, R] = [248,  20,  35]"
   ]
  },
  {
   "cell_type": "markdown",
   "metadata": {},
   "source": [
    "There is a whole host of transformations that we can quickly apply to images using openCV, for example converting to one channel (grey-scale)."
   ]
  },
  {
   "cell_type": "code",
   "execution_count": null,
   "metadata": {},
   "outputs": [],
   "source": [
    "# Notice how this only has one channel \n",
    "cv2.cvtColor(img, cv2.COLOR_RGB2GRAY)"
   ]
  },
  {
   "cell_type": "code",
   "execution_count": null,
   "metadata": {},
   "outputs": [],
   "source": [
    "plt.figure(figsize=figsize)\n",
    "plt.imshow(cv2.cvtColor(img, cv2.COLOR_RGB2GRAY), cmap='gray')\n",
    "plt.show()"
   ]
  },
  {
   "cell_type": "markdown",
   "metadata": {},
   "source": [
    "We might want to check out some histograms of the pixel intensity, which we can use `ravel()` to do (this flattens a matrix into a vector)."
   ]
  },
  {
   "cell_type": "code",
   "execution_count": null,
   "metadata": {},
   "outputs": [],
   "source": [
    "#len(img.ravel())\n",
    "#img.shape # (174, 290, 3) -> 174 x 290 * 3 = 50460\n",
    "img.ravel()"
   ]
  },
  {
   "cell_type": "markdown",
   "metadata": {},
   "source": [
    "Which we can plot using matplotlib histograms."
   ]
  },
  {
   "cell_type": "code",
   "execution_count": null,
   "metadata": {},
   "outputs": [],
   "source": [
    "plt.hist(x=img.ravel(), bins=256, range=[0, 256]) \n",
    "plt.show()"
   ]
  },
  {
   "cell_type": "markdown",
   "metadata": {},
   "source": [
    "But this does not distinguish between the 3 channels, we can split it out by colour."
   ]
  },
  {
   "cell_type": "code",
   "execution_count": null,
   "metadata": {},
   "outputs": [],
   "source": [
    "# On the same plot\n",
    "colors = ('r', 'g', 'b')\n",
    "for i, color in enumerate(colors):\n",
    "    plt.hist(x=img[:,:,i].ravel(), bins=256, range=[0, 256], color=color) \n",
    "plt.show()"
   ]
  },
  {
   "cell_type": "code",
   "execution_count": null,
   "metadata": {},
   "outputs": [],
   "source": [
    "# On different plots\n",
    "colors = ('b', 'g', 'r')\n",
    "for i, color in enumerate(colors):\n",
    "    plt.hist(x=img[:,:,i].ravel(), bins=256, range=[0, 256], color=color) \n",
    "    plt.show()"
   ]
  },
  {
   "cell_type": "markdown",
   "metadata": {},
   "source": [
    "If you look at histograms of different images you will find that they do not look as 'spiked' as the histograms here. That is because the image of the flag has very distinguishable colour changes. For example this image of a beach.\n",
    "\n",
    "![title](images/beach.jpg)"
   ]
  },
  {
   "cell_type": "code",
   "execution_count": null,
   "metadata": {},
   "outputs": [],
   "source": [
    "# Read in using openCV\n",
    "beach_img = cv2.imread(\"images/beach.jpg\")\n",
    "\n",
    "# Swap the channel order from BGR -> RGB\n",
    "beach_img = beach_img[:,:,::-1]\n",
    "\n",
    "# Plot the colours on different plots\n",
    "colors = ('b', 'g', 'r')\n",
    "for i, color in enumerate(colors):\n",
    "    plt.hist(x=beach_img[:,:,i].ravel(), bins=256, range=[0, 256], color=color) \n",
    "    plt.show()"
   ]
  },
  {
   "cell_type": "markdown",
   "metadata": {},
   "source": [
    "The channels in this image have much more fluidity, however you can still see the large amount of intensive green colour that makes up the image."
   ]
  }
 ],
 "metadata": {
  "kernelspec": {
   "display_name": "Python 3 (ipykernel)",
   "language": "python",
   "name": "python3"
  },
  "language_info": {
   "codemirror_mode": {
    "name": "ipython",
    "version": 3
   },
   "file_extension": ".py",
   "mimetype": "text/x-python",
   "name": "python",
   "nbconvert_exporter": "python",
   "pygments_lexer": "ipython3",
   "version": "3.9.7"
  }
 },
 "nbformat": 4,
 "nbformat_minor": 4
}
