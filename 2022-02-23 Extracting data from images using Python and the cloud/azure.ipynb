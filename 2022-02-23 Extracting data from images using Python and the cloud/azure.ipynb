{
 "cells": [
  {
   "cell_type": "code",
   "execution_count": null,
   "id": "f4e1a7cf-c789-4467-a7db-db459e4d28ca",
   "metadata": {},
   "outputs": [],
   "source": [
    "from azure.cognitiveservices.vision.computervision import ComputerVisionClient\n",
    "from msrest.authentication import CognitiveServicesCredentials\n",
    "\n",
    "import time\n",
    "import cv2\n",
    "import matplotlib.pyplot as plt\n",
    "from matplotlib.patches import Polygon\n",
    "import matplotlib\n",
    "%matplotlib inline"
   ]
  },
  {
   "cell_type": "code",
   "execution_count": null,
   "id": "740fd57e-b8f0-4f7e-8ca5-617b4f216fc4",
   "metadata": {},
   "outputs": [],
   "source": [
    "# Create a client\n",
    "credentials = CognitiveServicesCredentials(None)\n",
    "client = ComputerVisionClient(\n",
    "    endpoint=\"https://uksouth.api.cognitive.microsoft.com/\",\n",
    "    credentials=credentials\n",
    ")"
   ]
  },
  {
   "cell_type": "code",
   "execution_count": null,
   "id": "edd81fac-4ed5-4a02-9a57-2fd4255b2ca9",
   "metadata": {},
   "outputs": [],
   "source": [
    "# Open the image as bytes\n",
    "with open(\"images/lazy_dog.jpg\", 'rb') as image_bytes:\n",
    "\n",
    "    # Call API\n",
    "    job = client.read_in_stream(\n",
    "        image=image_bytes,\n",
    "        raw=True\n",
    "    )"
   ]
  },
  {
   "cell_type": "code",
   "execution_count": null,
   "id": "c775b9b0-0695-40d9-93be-7910b9b0f9ff",
   "metadata": {},
   "outputs": [],
   "source": [
    "# Get the ID from the URL\n",
    "operation_id = job.headers[\"Operation-Location\"].split(\"/\")[-1]\n",
    "\n",
    "# Call the \"GET\" API and wait until we get a result\n",
    "while True:\n",
    "    result = client.get_read_result(operation_id).as_dict()\n",
    "    if result['status'] not in ['notStarted', 'running']:\n",
    "        break\n",
    "    time.sleep(1)    \n",
    "\n",
    "# Filter to read_result\n",
    "read_result = result['analyze_result']['read_results'][0]"
   ]
  },
  {
   "cell_type": "code",
   "execution_count": null,
   "id": "e95b79b7-2243-4fa2-90a7-2ad7d8ba0f71",
   "metadata": {},
   "outputs": [],
   "source": [
    "# Examine the read result\n",
    "read_result"
   ]
  },
  {
   "cell_type": "code",
   "execution_count": null,
   "id": "28c61eef-94d4-4a68-bbc6-ccc69caed62b",
   "metadata": {},
   "outputs": [],
   "source": [
    "# Print the detected text\n",
    "for line in read_result[\"lines\"]:\n",
    "    print(line[\"bounding_box\"])\n",
    "    print(line[\"text\"])"
   ]
  },
  {
   "cell_type": "code",
   "execution_count": null,
   "id": "cabfdda1-4c2c-4186-82d4-137e31071a51",
   "metadata": {},
   "outputs": [],
   "source": [
    "# Display the image and overlay it with the extracted text.\n",
    "image = cv2.imread(\"images/lazy_dog.jpg\")\n",
    "ax = plt.imshow(image)\n",
    "\n",
    "for line in read_result[\"lines\"]:\n",
    "    \n",
    "    # Extract the (x,y) coordinates from [x0,y0,...,x3,y3]\n",
    "    bbox = line[\"bounding_box\"]\n",
    "    vertices = [(bbox[i], bbox[i+1]) for i in range(0, 8, 2)]\n",
    "    \n",
    "    # Draw on the polygon\n",
    "    patch = Polygon(vertices, closed=True, fill=False, linewidth=2, color='y')\n",
    "    ax.axes.add_patch(patch)\n",
    "    \n",
    "    # Add the text\n",
    "    text = line[\"text\"]\n",
    "    plt.text(vertices[0][0], vertices[0][1], text, fontsize=20, va=\"top\")\n",
    "\n",
    "plt.show()"
   ]
  }
 ],
 "metadata": {
  "kernelspec": {
   "display_name": "Python 3 (ipykernel)",
   "language": "python",
   "name": "python3"
  },
  "language_info": {
   "codemirror_mode": {
    "name": "ipython",
    "version": 3
   },
   "file_extension": ".py",
   "mimetype": "text/x-python",
   "name": "python",
   "nbconvert_exporter": "python",
   "pygments_lexer": "ipython3",
   "version": "3.9.7"
  }
 },
 "nbformat": 4,
 "nbformat_minor": 5
}
