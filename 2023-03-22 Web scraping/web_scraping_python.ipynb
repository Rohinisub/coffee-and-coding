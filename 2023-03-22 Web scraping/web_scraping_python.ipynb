{
 "cells": [
  {
   "cell_type": "markdown",
   "id": "1a662bc0-abdf-4172-a7f2-4605f65ec508",
   "metadata": {
    "tags": []
   },
   "source": [
    "# Web scraping in Python: Scraping with Requests and BeautifulSoup"
   ]
  },
  {
   "cell_type": "markdown",
   "id": "198cfe14-c38e-40af-86bc-855e4d2ffc72",
   "metadata": {},
   "source": [
    "Web scraping is a valuable tool for programmers to effortlessly gather information from the vast resources of the internet. While it is generally acceptable for non-commercial purposes with publicly available data, caution must be exercised to avoid scraping protected information such as personal data, intellectual property, or confidential information. \n",
    "\n",
    "Additionally, the complexities of scraping social media due to its varying levels of accessibility highlight the need for cautious and informed scraping practices.\n"
   ]
  },
  {
   "cell_type": "markdown",
   "id": "09a46aca-f5a1-40e0-96eb-2b8efa2c96bc",
   "metadata": {},
   "source": [
    "This coffee and coding session, we will use Python's two libraries; <b>Requests</b> and <b>BeautifulSoup</b> to scrap book reviews. <br>http://books.toscrape.com/ contains review  for fake books for the beginners learning web scrapings. <br>\n",
    "This session aims for the beginners (like me!) introduction to web scraping."
   ]
  },
  {
   "cell_type": "markdown",
   "id": "2ab24ca1-55a9-49f6-b971-bfa78537b9d4",
   "metadata": {},
   "source": [
    "To gather information from the internet through web scraping, one typically follows a four-step process:\n",
    "\n",
    "<li> Sending an HTTP GET request to the URL </li>\n",
    "<li> Retrieving HTML content </li>\n",
    "<li> Building the HTML document tree </li>\n",
    "<li> Extracting information from the HTML document tree </li>   "
   ]
  },
  {
   "cell_type": "markdown",
   "id": "c41bf4eb-093a-4405-bd27-dd4766f85acc",
   "metadata": {},
   "source": [
    "### Requests\n"
   ]
  },
  {
   "cell_type": "markdown",
   "id": "53ca3f7d-1090-42e3-a151-98a11e8341f1",
   "metadata": {},
   "source": [
    "The Requests library in Python is a popular and widely used library for making HTTP requests. This library allows user to send HTTP requests to server, receive response and handle in a simple and efficient manner. \n",
    "\n",
    "It supports varous methods for making requests, such as GET, POST, HEAD, PUT, DELETE etc."
   ]
  },
  {
   "cell_type": "markdown",
   "id": "70249c0b-f079-478b-9367-702c130421a5",
   "metadata": {
    "tags": []
   },
   "source": [
    "### BeautifulSoup"
   ]
  },
  {
   "cell_type": "markdown",
   "id": "04815663-deda-4065-9faa-a43d15bd369b",
   "metadata": {},
   "source": [
    "BeautifulSoup is a Python library for web scraping and data extraction from HTML and XML files. <br>\n",
    "It provides a convenient and efficient way to parse and naviage through HTML contents, allowing for the extraction of specific elements and data."
   ]
  },
  {
   "cell_type": "markdown",
   "id": "32e2ceae-1aad-4a89-9091-39b8bd920c3c",
   "metadata": {},
   "source": [
    "We will first fetch HTML code from our fake-books site. But before we start, I will show you a very quick overview of basic HTML. \n",
    "\n",
    "HTML (Hypertext Markup Language) is a standard markup language used for creating web pages and other information that can be displayed in a web browser. It consists of a set of tags and attributes that define the structure, content, and appearance of a web page. "
   ]
  },
  {
   "cell_type": "code",
   "execution_count": 3,
   "id": "1a59da51-95b8-46bf-a6d1-894bcbfc2e4f",
   "metadata": {
    "tags": []
   },
   "outputs": [],
   "source": [
    "from IPython.core.display import HTML"
   ]
  },
  {
   "cell_type": "code",
   "execution_count": 48,
   "id": "71072523-70e0-4626-b747-28a9c70f3225",
   "metadata": {
    "tags": []
   },
   "outputs": [],
   "source": [
    "html_test = \"\"\"\n",
    "<html>\n",
    "  <head>\n",
    "    <title>My First Web Page</title>\n",
    "  </head>\n",
    "  <body>\n",
    "    <h1>Welcome to my first test web page</h1>\n",
    "    <p>This is a paragraph of text. I want to list some of my favourite composer and their music </p>\n",
    "    <ul id = \"composer\", class = \"myclass\">\n",
    "      <li>Listz</li>\n",
    "      <li>Mozart</li>\n",
    "      <li>Debussy</li>\n",
    "    </ul>\n",
    "    <ul id = \"piece\", class = \"myclass2\">\n",
    "        <li>Love Dream (No.3)</li>\n",
    "        <li>Sonatina No.1 in C Major</li>\n",
    "        <li>Moonlight</li>        \n",
    "    </ul>\n",
    "  </body>\n",
    "</html>\n",
    "\"\"\""
   ]
  },
  {
   "cell_type": "code",
   "execution_count": 49,
   "id": "95168506-313a-4ac1-9e2b-0ce8ec18a146",
   "metadata": {
    "tags": []
   },
   "outputs": [],
   "source": [
    "# Let's import libraries first\n",
    "from bs4 import BeautifulSoup\n",
    "import requests\n",
    "import pandas as pd"
   ]
  },
  {
   "cell_type": "markdown",
   "id": "50b0a05f-f129-4a0c-86f7-662f44608426",
   "metadata": {},
   "source": [
    "We explore functions in BeautifulSoup using the sample HTML we've just created. "
   ]
  },
  {
   "cell_type": "code",
   "execution_count": 50,
   "id": "bc24ee1f-bdbb-4a1f-9780-f749affe6426",
   "metadata": {
    "tags": []
   },
   "outputs": [],
   "source": [
    "# create soup variable\n",
    "soup = BeautifulSoup(html_test, features = \"html.parser\")"
   ]
  },
  {
   "cell_type": "code",
   "execution_count": 51,
   "id": "3f68a05a-e3f2-44b7-a94f-a6a5bfe08073",
   "metadata": {
    "tags": []
   },
   "outputs": [
    {
     "data": {
      "text/plain": [
       "\n",
       "<html>\n",
       "<head>\n",
       "<title>My First Web Page</title>\n",
       "</head>\n",
       "<body>\n",
       "<h1>Welcome to my first test web page</h1>\n",
       "<p>This is a paragraph of text. I want to list some of my favourite composer and their music </p>\n",
       "<ul ,=\"\" class=\"myclass\" id=\"composer\">\n",
       "<li>Listz</li>\n",
       "<li>Mozart</li>\n",
       "<li>Debussy</li>\n",
       "</ul>\n",
       "<ul ,=\"\" class=\"myclass2\" id=\"piece\">\n",
       "<li>Love Dream (No.3)</li>\n",
       "<li>Sonatina No.1 in C Major</li>\n",
       "<li>Moonlight</li>\n",
       "</ul>\n",
       "</body>\n",
       "</html>"
      ]
     },
     "execution_count": 51,
     "metadata": {},
     "output_type": "execute_result"
    }
   ],
   "source": [
    "# soup has the information extracted from HTML string. We can make it better display\n",
    "soup"
   ]
  },
  {
   "cell_type": "code",
   "execution_count": 52,
   "id": "d46c8e9f-9284-4ed6-b1f2-b2fc6d0386ce",
   "metadata": {
    "tags": []
   },
   "outputs": [
    {
     "name": "stdout",
     "output_type": "stream",
     "text": [
      "<html>\n",
      " <head>\n",
      "  <title>\n",
      "   My First Web Page\n",
      "  </title>\n",
      " </head>\n",
      " <body>\n",
      "  <h1>\n",
      "   Welcome to my first test web page\n",
      "  </h1>\n",
      "  <p>\n",
      "   This is a paragraph of text. I want to list some of my favourite composer and their music\n",
      "  </p>\n",
      "  <ul ,=\"\" class=\"myclass\" id=\"composer\">\n",
      "   <li>\n",
      "    Listz\n",
      "   </li>\n",
      "   <li>\n",
      "    Mozart\n",
      "   </li>\n",
      "   <li>\n",
      "    Debussy\n",
      "   </li>\n",
      "  </ul>\n",
      "  <ul ,=\"\" class=\"myclass2\" id=\"piece\">\n",
      "   <li>\n",
      "    Love Dream (No.3)\n",
      "   </li>\n",
      "   <li>\n",
      "    Sonatina No.1 in C Major\n",
      "   </li>\n",
      "   <li>\n",
      "    Moonlight\n",
      "   </li>\n",
      "  </ul>\n",
      " </body>\n",
      "</html>\n",
      "\n"
     ]
    }
   ],
   "source": [
    "# Now indent etc works better\n",
    "# Prettify arranges all the tags in a parse-tree manner with better readability.\n",
    "print(soup.prettify())"
   ]
  },
  {
   "cell_type": "code",
   "execution_count": 53,
   "id": "6ea8408f-2ce7-4274-9004-7da989c581de",
   "metadata": {
    "tags": []
   },
   "outputs": [
    {
     "data": {
      "text/plain": [
       "<title>My First Web Page</title>"
      ]
     },
     "metadata": {},
     "output_type": "display_data"
    },
    {
     "data": {
      "text/plain": [
       "'title'"
      ]
     },
     "metadata": {},
     "output_type": "display_data"
    },
    {
     "data": {
      "text/plain": [
       "'My First Web Page'"
      ]
     },
     "metadata": {},
     "output_type": "display_data"
    },
    {
     "data": {
      "text/plain": [
       "'\\n\\n\\nMy First Web Page\\n\\n\\nWelcome to my first test web page\\nThis is a paragraph of text. I want to list some of my favourite composer and their music \\n\\nListz\\nMozart\\nDebussy\\n\\n\\nLove Dream (No.3)\\nSonatina No.1 in C Major\\nMoonlight\\n\\n\\n\\n'"
      ]
     },
     "metadata": {},
     "output_type": "display_data"
    }
   ],
   "source": [
    "# Codes to nativage data structure (https://www.crummy.com/software/BeautifulSoup/bs4/doc/)\n",
    "display(soup.title)\n",
    "display(soup.title.name)\n",
    "display(soup.title.string)\n",
    "display(soup.get_text())"
   ]
  },
  {
   "cell_type": "markdown",
   "id": "916076ca-01e3-42b2-a77b-4df6af4b1d9c",
   "metadata": {},
   "source": [
    "Let's try `find()` or `find_all()` functions to search for specific tags in the HTML content. <br>\n",
    "`find()` returns only the first occurrence of the search query. `find_all()` returns a list of all matches."
   ]
  },
  {
   "cell_type": "code",
   "execution_count": 54,
   "id": "e3eaeac8-6704-452e-8a07-9a94f6cc9a38",
   "metadata": {
    "tags": []
   },
   "outputs": [
    {
     "data": {
      "text/plain": [
       "<li>Listz</li>"
      ]
     },
     "metadata": {},
     "output_type": "display_data"
    },
    {
     "data": {
      "text/plain": [
       "'Listz'"
      ]
     },
     "metadata": {},
     "output_type": "display_data"
    },
    {
     "data": {
      "text/plain": [
       "[<li>Listz</li>,\n",
       " <li>Mozart</li>,\n",
       " <li>Debussy</li>,\n",
       " <li>Love Dream (No.3)</li>,\n",
       " <li>Sonatina No.1 in C Major</li>,\n",
       " <li>Moonlight</li>]"
      ]
     },
     "metadata": {},
     "output_type": "display_data"
    }
   ],
   "source": [
    "display(soup.find('li'))\n",
    "display(soup.find('li').text) # This allows us to extract the inner HTML text\n",
    "display(soup.find_all('li'))"
   ]
  },
  {
   "cell_type": "markdown",
   "id": "33cd866e-1652-4de2-ad8a-5e834026e27c",
   "metadata": {},
   "source": [
    "If we only want to extract Test items `<li>`, we can use `attr ={}` dictionary to define the attributes of an HTML tag. Dictionary keys are the name of the attributes, and the values are the attribute values.<br>"
   ]
  },
  {
   "cell_type": "code",
   "execution_count": 59,
   "id": "72379edf-61c2-41f5-9712-a03b689b2032",
   "metadata": {
    "tags": []
   },
   "outputs": [
    {
     "data": {
      "text/plain": [
       "[<li>Listz</li>, <li>Mozart</li>, <li>Debussy</li>]"
      ]
     },
     "execution_count": 59,
     "metadata": {},
     "output_type": "execute_result"
    }
   ],
   "source": [
    "myList = soup.find(attrs = {'id':'composer', 'class':'myclass'})\n",
    "myList.find_all('li')"
   ]
  },
  {
   "cell_type": "markdown",
   "id": "e975970f-092a-4011-8024-a213a58ef536",
   "metadata": {},
   "source": [
    "You can also traverse the parent and children elements in the HTML code. "
   ]
  }
 ],
 "metadata": {
  "kernelspec": {
   "display_name": "Python 3 (ipykernel)",
   "language": "python",
   "name": "python3"
  },
  "language_info": {
   "codemirror_mode": {
    "name": "ipython",
    "version": 3
   },
   "file_extension": ".py",
   "mimetype": "text/x-python",
   "name": "python",
   "nbconvert_exporter": "python",
   "pygments_lexer": "ipython3",
   "version": "3.10.9"
  }
 },
 "nbformat": 4,
 "nbformat_minor": 5
}
