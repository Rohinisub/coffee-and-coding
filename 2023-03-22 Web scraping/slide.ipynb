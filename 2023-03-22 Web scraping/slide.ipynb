{
 "cells": [
  {
   "attachments": {},
   "cell_type": "markdown",
   "metadata": {},
   "source": [
    "# Web scraping with Python"
   ]
  },
  {
   "attachments": {},
   "cell_type": "markdown",
   "metadata": {},
   "source": [
    "## Introduction\n",
    "- Web scraping is the process of extracting data from websites\n",
    "- Beautiful Soup and Requests are Python libraries used for web scraping"
   ]
  },
  {
   "attachments": {},
   "cell_type": "markdown",
   "metadata": {},
   "source": [
    "## What is Requests?\n",
    "- Python library used to send HTTP requests and get responses\n",
    "- Can be used to make GET, POST, PUT, DELETE requests, etc.\n",
    "- Allows access to web pages, data, and APIs"
   ]
  },
  {
   "attachments": {},
   "cell_type": "markdown",
   "metadata": {},
   "source": [
    "## What is BeautifulSoup?\n",
    "- Python library used for parsing HTML and XML documents\n",
    "- Allows for easy navigation, searching, and modifying of parsed documents\n",
    "- Useful for web scraping to extract data from web pages\n",
    "- https://www.crummy.com/software/BeautifulSoup/bs4/doc/"
   ]
  },
  {
   "attachments": {},
   "cell_type": "markdown",
   "metadata": {},
   "source": [
    "## How to use Requests and Beautiful Soup for web scraping?\n",
    "- Send a request to the website using Requests to retrieve the HTML content of the pag\n",
    "- Parse the HTML content using Beautiful Soup to extract the desired data\n",
    "- Save the data to a file or use it in your analysis"
   ]
  },
  {
   "attachments": {},
   "cell_type": "markdown",
   "metadata": {},
   "source": [
    "## What we will try Coffee and Coding session?\n",
    "- Demonstrate a simple web scraping example using Requests and Beautiful Soup\n",
    "- Code will include importing the necessary libraries, sending a request to a website, parsing the HTML content using Beautiful Soup, and extracting the desired data\n",
    "- we also try to use one of NLP library to extract key phrases"
   ]
  },
  {
   "attachments": {},
   "cell_type": "markdown",
   "metadata": {},
   "source": [
    "## Things to consider\n",
    "- Respect website terms of use and policies\n",
    "- Use user agents to identify your scraping script and avoid being blocked by the website\n",
    "- Use a delay between requests to avoid overwhelming the website\n"
   ]
  },
  {
   "attachments": {},
   "cell_type": "markdown",
   "metadata": {},
   "source": [
    "## Conclusion\n",
    "- Web scraping using Requests and Beautiful Soup is a powerful tool for extracting data from websites\n",
    "- With proper knowledge and ethical practices, it can be a valuable asset for data analysis and research"
   ]
  }
 ],
 "metadata": {
  "language_info": {
   "name": "python"
  },
  "orig_nbformat": 4
 },
 "nbformat": 4,
 "nbformat_minor": 2
}
