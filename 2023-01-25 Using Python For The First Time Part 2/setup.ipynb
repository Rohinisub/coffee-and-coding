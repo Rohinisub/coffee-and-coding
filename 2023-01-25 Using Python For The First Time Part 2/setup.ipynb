{
 "cells": [
  {
   "cell_type": "code",
   "execution_count": null,
   "id": "86b51178-ee9e-4184-a4b9-a5b36774824d",
   "metadata": {},
   "outputs": [],
   "source": [
    "import datetime\n",
    "import numpy as np\n",
    "import pandas as pd"
   ]
  },
  {
   "cell_type": "code",
   "execution_count": null,
   "id": "e9c1555b-d6c0-4143-a1e9-93b0e62e97e2",
   "metadata": {},
   "outputs": [],
   "source": [
    "schema = {\n",
    "  \"Survey Date\": \"object\" #,\n",
    "  #\"What is your age?\": \"object\",\n",
    "  #\"What is your gender?\": \"object\",\n",
    "  #\"Are you self-employed?\": \"object\",\n",
    "  #\"How many employees does your company or organization have?\": \"object\",\n",
    "  #\"Do you currently have a mental health disorder?\": \"object\",\n",
    "  #\"If yes, what condition(s) have you been diagnosed with?\": \"object\"\n",
    "}"
   ]
  },
  {
   "cell_type": "code",
   "execution_count": null,
   "id": "9f99bf2c-42de-4581-8073-f0e9a21b98f8",
   "metadata": {},
   "outputs": [],
   "source": [
    "data = pd.read_excel('data_setup.xlsx', dtype = schema)"
   ]
  },
  {
   "cell_type": "code",
   "execution_count": null,
   "id": "23852a7d-0df4-4aae-8f51-c1d7d14a241d",
   "metadata": {},
   "outputs": [],
   "source": [
    "dates = []\n",
    "for i in data['Survey Date']:\n",
    "  dates.append(i.strftime('%d/%m/%Y'))\n",
    "  \n",
    "data['Survey Date'] = dates"
   ]
  },
  {
   "cell_type": "code",
   "execution_count": null,
   "id": "72bf0c43-80b4-4f4c-b3d1-7ae28a2e873c",
   "metadata": {},
   "outputs": [],
   "source": [
    "data.dtypes"
   ]
  },
  {
   "cell_type": "code",
   "execution_count": null,
   "id": "7bde351c-6596-4419-89d2-521776ba0e0a",
   "metadata": {},
   "outputs": [],
   "source": [
    "data['How many years have you worked for your current organization (or been self employed)?'] = np.random.rand(data.shape[0]) * 23\n",
    "data['How many years have you worked for your current organization (or been self employed)?'] = \\\n",
    "  data['How many years have you worked for your current organization (or been self employed)?'].round(2)"
   ]
  },
  {
   "cell_type": "code",
   "execution_count": null,
   "id": "8a8692d0-3b89-481e-abc9-ee414b5540a6",
   "metadata": {},
   "outputs": [],
   "source": [
    "data.columns.tolist()"
   ]
  },
  {
   "cell_type": "code",
   "execution_count": null,
   "id": "a5562d3c-2e41-4b08-9b41-14f5c8c1cb18",
   "metadata": {},
   "outputs": [],
   "source": [
    "columns = [\n",
    "  'Survey Date',\n",
    "  'What is your age?',\n",
    "  'What is your gender?',\n",
    "  'Are you self-employed?',\n",
    "  'How many employees does your company or organization have?',\n",
    "  'How many years have you worked for your current organization (or been self employed)?',\n",
    "  'Do you currently have a mental health disorder?',\n",
    "  'If yes, what condition(s) have you been diagnosed with?'\n",
    "]\n",
    "\n",
    "data = data[columns]"
   ]
  },
  {
   "cell_type": "code",
   "execution_count": null,
   "id": "c91050b4-a518-46cf-9883-1d32b9412d21",
   "metadata": {},
   "outputs": [],
   "source": [
    "data.to_csv('data_raw.csv', index=False)"
   ]
  },
  {
   "cell_type": "code",
   "execution_count": null,
   "id": "e5b8d2f8-27c8-4917-9ff0-a34c77511fcf",
   "metadata": {},
   "outputs": [],
   "source": [
    "data2 = pd.read_csv('data_raw.csv')\n",
    "data2"
   ]
  },
  {
   "cell_type": "code",
   "execution_count": null,
   "id": "c8cee51b-e084-4334-8ec6-e9e3adb3a198",
   "metadata": {},
   "outputs": [],
   "source": [
    "data2.dtypes"
   ]
  },
  {
   "cell_type": "code",
   "execution_count": null,
   "id": "07e7b33d-7749-40c0-ab76-caac5e724266",
   "metadata": {},
   "outputs": [],
   "source": [
    "data2"
   ]
  }
 ],
 "metadata": {
  "kernelspec": {
   "display_name": "Python 3 (ipykernel)",
   "language": "python",
   "name": "python3"
  },
  "language_info": {
   "codemirror_mode": {
    "name": "ipython",
    "version": 3
   },
   "file_extension": ".py",
   "mimetype": "text/x-python",
   "name": "python",
   "nbconvert_exporter": "python",
   "pygments_lexer": "ipython3",
   "version": "3.8.13"
  }
 },
 "nbformat": 4,
 "nbformat_minor": 5
}
