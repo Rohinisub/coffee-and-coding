{
 "cells": [
  {
   "cell_type": "markdown",
   "id": "891c4198-92da-4729-80f9-d87e73f9335f",
   "metadata": {},
   "source": [
    "# Load Packages and Data"
   ]
  },
  {
   "cell_type": "code",
   "execution_count": null,
   "id": "fcd22be0",
   "metadata": {},
   "outputs": [],
   "source": [
    "import pandas as pd"
   ]
  },
  {
   "cell_type": "markdown",
   "id": "8244eca1-912c-4fec-8935-e1f9760d4ac1",
   "metadata": {},
   "source": [
    "Said in the last session that Pandas can pretty much do everything which shows here\n",
    "\n",
    "Will be going over data cleaning, using ..."
   ]
  },
  {
   "cell_type": "code",
   "execution_count": null,
   "id": "4db0f4a5",
   "metadata": {},
   "outputs": [],
   "source": [
    "data = pd.read_csv('data_raw.csv')\n",
    "\n",
    "data"
   ]
  },
  {
   "cell_type": "markdown",
   "id": "107645a3-0b40-40a1-9733-622741b04be4",
   "metadata": {},
   "source": [
    "Data Types:\n",
    "- Datetime objects which exclusively contains dates and times are a setup in a format for date manipulation\n",
    "- Integers which contain exclusively numbers which don't include decimals, this only allows whole numbers\n",
    "- Float contains any number, allowing decimals\n",
    "- Boolean is a binary indicator flag, specifiying 'Yes' or 'No'.\n",
    "- Object which can contains words and strings, as well as numbers, dates and any other items.\n",
    "\n",
    "Data Formats:\n",
    "- Data Frames, exclusively controled by the Pandas package is an formatted nXn matrix containing all of our rows and columns\n",
    "- Series or lists are simply one column of data, when we take a subset. We can also specify our own lists for controlling loops and populating datasets.\n",
    "- Dictionaries: Similar to lists but where each value has a name, given a key:value format."
   ]
  },
  {
   "cell_type": "code",
   "execution_count": null,
   "id": "c2c66d02",
   "metadata": {},
   "outputs": [],
   "source": [
    "data.dtypes"
   ]
  },
  {
   "cell_type": "markdown",
   "id": "309f992b-3e68-4384-aeff-856cb76af1a5",
   "metadata": {},
   "source": [
    "1) Names are ugly (explain why there is a problem)\n",
    "2) Notice errors (date in bad format, dates in number of employees, gender has multiple encodings for male)\n",
    "3) NULLS\n",
    "4) Wrong format with dtypes"
   ]
  },
  {
   "cell_type": "markdown",
   "id": "84ad3749-b9e5-47bb-a044-7d66469bacba",
   "metadata": {
    "tags": []
   },
   "source": [
    "# Rename Columns"
   ]
  },
  {
   "cell_type": "code",
   "execution_count": null,
   "id": "7cdb516e",
   "metadata": {},
   "outputs": [],
   "source": [
    "columns = ['survey_date', \n",
    "           'age', \n",
    "           'gender', \n",
    "           'self_employed',\n",
    "           'number_of_employees',\n",
    "           'years_employed',\n",
    "           'has_mental_health', \n",
    "           'conditions']\n",
    "\n",
    "data.columns = columns"
   ]
  },
  {
   "cell_type": "code",
   "execution_count": null,
   "id": "26cd672e-2cf2-4a4b-932c-f182b683d5d0",
   "metadata": {},
   "outputs": [],
   "source": [
    "data"
   ]
  },
  {
   "cell_type": "markdown",
   "id": "61d9ff50-940d-4da3-9dc9-494e1bd806df",
   "metadata": {},
   "source": [
    "# Convert Data Types"
   ]
  },
  {
   "cell_type": "code",
   "execution_count": null,
   "id": "77a5b95c-2e22-4dbc-9be3-28b38caa67f5",
   "metadata": {},
   "outputs": [],
   "source": [
    "data['survey_date'] =  pd.to_datetime(data['survey_date'], format='%d/%m/%Y')\n",
    "data['self_employed'] = data['self_employed'].astype('bool')"
   ]
  },
  {
   "cell_type": "code",
   "execution_count": null,
   "id": "f18b88be-f18e-4a2a-bb5a-482587e66fa4",
   "metadata": {},
   "outputs": [],
   "source": [
    "# data['age'] = data['age'].astype(int)"
   ]
  },
  {
   "cell_type": "code",
   "execution_count": null,
   "id": "20640e19-0fa2-4d64-8a17-d5bd9346c76a",
   "metadata": {},
   "outputs": [],
   "source": [
    "data"
   ]
  },
  {
   "cell_type": "markdown",
   "id": "c307b7c4-2005-4a99-a010-8292286ffc0b",
   "metadata": {},
   "source": [
    "# Detect Outliers with Functions"
   ]
  },
  {
   "cell_type": "markdown",
   "id": "2b2080f5-a8dc-487b-bb10-db2e36c64982",
   "metadata": {},
   "source": [
    "Functions must be indented using the TAB key, otherwise they will not work.\n",
    "\n",
    "\"def\" for define\n",
    "\n",
    "Format: \n",
    "```\n",
    "def function_name(input1, ..., inputx):\n",
    "  {code}\n",
    "  return {output}\n",
    "```"
   ]
  },
  {
   "cell_type": "code",
   "execution_count": null,
   "id": "5979cbce",
   "metadata": {
    "tags": []
   },
   "outputs": [],
   "source": [
    "def multiply(x, y):\n",
    "    result = x * y\n",
    "    return result"
   ]
  },
  {
   "cell_type": "code",
   "execution_count": null,
   "id": "de203a50",
   "metadata": {
    "tags": []
   },
   "outputs": [],
   "source": [
    "multiply(5, 10)"
   ]
  },
  {
   "cell_type": "code",
   "execution_count": null,
   "id": "4d8b6b47",
   "metadata": {},
   "outputs": [],
   "source": [
    "data['survey_date'].value_counts() \\\n",
    "                   .sort_values(ascending = False)"
   ]
  },
  {
   "cell_type": "code",
   "execution_count": null,
   "id": "d2c90e57",
   "metadata": {},
   "outputs": [],
   "source": [
    "def my_counter(column, prop = False):\n",
    "    result = data[column].value_counts(normalize = prop, dropna = False) \\\n",
    "                         .sort_values(ascending = False)\n",
    "    return result"
   ]
  },
  {
   "cell_type": "code",
   "execution_count": null,
   "id": "972f6fff-e00b-4b68-868a-5538d83299ab",
   "metadata": {},
   "outputs": [],
   "source": [
    "my_counter(['survey_date'])"
   ]
  },
  {
   "cell_type": "markdown",
   "id": "d6a1f74a-18e1-4617-97d3-855bdd1f5eaa",
   "metadata": {},
   "source": [
    "# Fixing Outliers with Conditional Filtering"
   ]
  },
  {
   "cell_type": "markdown",
   "id": "c3f7f9e1-2c1c-49c7-952d-15ce9fb64821",
   "metadata": {},
   "source": [
    "1) Null the value\n",
    "2) fill with value (previous, mean, median, etc..) but only if appropriate"
   ]
  },
  {
   "cell_type": "markdown",
   "id": "4a9b7824-ee36-4c9e-8a9e-e787b40fab93",
   "metadata": {},
   "source": [
    "## Survey Date"
   ]
  },
  {
   "cell_type": "code",
   "execution_count": null,
   "id": "7f73390a",
   "metadata": {},
   "outputs": [],
   "source": [
    "data[(data['survey_date'] == '2025-06-01') | (data['survey_date'] == '2023-05-01')]"
   ]
  },
  {
   "cell_type": "code",
   "execution_count": null,
   "id": "8ee2cd60",
   "metadata": {},
   "outputs": [],
   "source": [
    "data['survey_date'][[30, 36, 44, 52, 87, 139]]"
   ]
  },
  {
   "cell_type": "code",
   "execution_count": null,
   "id": "14df5717",
   "metadata": {},
   "outputs": [],
   "source": [
    "data.loc[(data['survey_date'] == '2025-06-01') | (data['survey_date'] == '2023-05-01'), 'survey_date'] = '2022-01-01'"
   ]
  },
  {
   "cell_type": "code",
   "execution_count": null,
   "id": "8ac14e22-9759-40f6-8a64-20e50c9cfe9f",
   "metadata": {},
   "outputs": [],
   "source": [
    "data[data.index == 31]"
   ]
  },
  {
   "cell_type": "markdown",
   "id": "d5684675-815e-4be0-ab97-2a1450be9c91",
   "metadata": {},
   "source": [
    "## Age"
   ]
  },
  {
   "cell_type": "code",
   "execution_count": null,
   "id": "b69ef697-625d-453d-9294-d443cafc37bd",
   "metadata": {},
   "outputs": [],
   "source": [
    "my_counter('age')"
   ]
  },
  {
   "cell_type": "code",
   "execution_count": null,
   "id": "181c0e52-d105-40b3-9091-1b1f09827a16",
   "metadata": {},
   "outputs": [],
   "source": [
    "data[data['age'].isin(['thirty six', 'forty three', 'twenty nine'])]"
   ]
  },
  {
   "cell_type": "code",
   "execution_count": null,
   "id": "10a994ee-619c-4c43-ae0f-057c5a569959",
   "metadata": {},
   "outputs": [],
   "source": [
    "numbers = {\n",
    "  'thirty six': 36,\n",
    "  'forty three': 43, \n",
    "  'twenty nine': 29\n",
    "}"
   ]
  },
  {
   "cell_type": "code",
   "execution_count": null,
   "id": "b8a6a5e6-ee3b-406c-a3e4-d2e7fcde8e24",
   "metadata": {},
   "outputs": [],
   "source": [
    "data = data.replace({'age': numbers})"
   ]
  },
  {
   "cell_type": "code",
   "execution_count": null,
   "id": "fca852d4-4bee-4d36-8048-cbb90ad1dcff",
   "metadata": {},
   "outputs": [],
   "source": [
    "data['age'] = data['age'].astype(int)"
   ]
  },
  {
   "cell_type": "code",
   "execution_count": null,
   "id": "4503e722-3382-4459-a468-cfe7a547b844",
   "metadata": {},
   "outputs": [],
   "source": [
    "data[(data['age'] <= 18) | (data['age'] >= 80)]"
   ]
  },
  {
   "cell_type": "code",
   "execution_count": null,
   "id": "2f6d4504-643e-4c98-b3df-7cba3a0047b0",
   "metadata": {},
   "outputs": [],
   "source": [
    "data.loc[(data['age'] <= 16) | (data['age'] >= 100), 'age'] = data['age'].mean().astype(int)"
   ]
  },
  {
   "cell_type": "code",
   "execution_count": null,
   "id": "1466a899-6dd5-4411-8e64-19f1d7628752",
   "metadata": {},
   "outputs": [],
   "source": [
    "data[data.index == 631]"
   ]
  },
  {
   "cell_type": "markdown",
   "id": "bd778936-f7f7-4a14-89a5-3a744b9b73d4",
   "metadata": {},
   "source": [
    "## Gender"
   ]
  },
  {
   "cell_type": "code",
   "execution_count": null,
   "id": "16a6e249-26b3-49ac-831e-08769e818258",
   "metadata": {},
   "outputs": [],
   "source": [
    "my_counter('gender')"
   ]
  },
  {
   "cell_type": "code",
   "execution_count": null,
   "id": "146e216b-f1ce-45a4-92b2-91ab7044367f",
   "metadata": {},
   "outputs": [],
   "source": [
    "male = ['Male', 'male', 'M', 'm', 'Cis Male', 'man', 'ostensibly male, unsure what that really means', 'Mail', 'Make', 'male (cis)', \n",
    "        'cis male', 'maile', 'Malr', 'Cis Man', 'Mal', 'msle', 'male.', 'sex is male', 'malr', 'cis man', 'mail' ]\n",
    "     \n",
    "female = ['Female', 'female', 'F', 'f', 'Woman', 'Femake', 'Female (cis)', 'cis female', 'woman', 'femail', \n",
    "     'cis-female/femme', 'i identify as female.', 'cis-woman', 'cisgender female', 'female (props for making this a freeform field, though)', \n",
    "     'female/woman', 'female assigned at birth' ]\n",
    "\n",
    "data['gender'] = data['gender'].replace(male, 'male')\n",
    "data['gender'] = data['gender'].replace(female, 'female')\n",
    "\n",
    "other = list(data['gender'].value_counts().index)[2:]\n",
    "data['gender'] = data['gender'].replace(other, 'other')"
   ]
  },
  {
   "cell_type": "code",
   "execution_count": null,
   "id": "dbe8df65-ae5f-46b5-8512-695868696edc",
   "metadata": {},
   "outputs": [],
   "source": [
    "my_counter('gender')"
   ]
  },
  {
   "cell_type": "code",
   "execution_count": null,
   "id": "8dd41fdf-626e-46be-bc3a-07e6ed482a66",
   "metadata": {},
   "outputs": [],
   "source": [
    "data[data['gender'].isnull()]"
   ]
  },
  {
   "cell_type": "markdown",
   "id": "278cc979-ec54-4575-80f0-6bdefcc0605e",
   "metadata": {},
   "source": [
    "## Self Employed Flag"
   ]
  },
  {
   "cell_type": "code",
   "execution_count": null,
   "id": "833c696c-add5-4d2b-a545-724c5e33c50e",
   "metadata": {},
   "outputs": [],
   "source": [
    "my_counter('self_employed')"
   ]
  },
  {
   "cell_type": "code",
   "execution_count": null,
   "id": "cd4b7da4-8e52-444f-bfe1-74029dedb96c",
   "metadata": {},
   "outputs": [],
   "source": [
    "my_counter(['self_employed', 'number_of_employees'])"
   ]
  },
  {
   "cell_type": "markdown",
   "id": "85193641-efe7-47b3-a674-2a3bb7c62802",
   "metadata": {},
   "source": [
    "## Number of Employees"
   ]
  },
  {
   "cell_type": "code",
   "execution_count": null,
   "id": "28c597d8",
   "metadata": {},
   "outputs": [],
   "source": [
    "categories = ['26-100', '100-500', '500-1000', 'More than 1000']\n",
    "data.loc[~(data['number_of_employees'].isin(categories)), 'number_of_employees'] = None"
   ]
  },
  {
   "cell_type": "code",
   "execution_count": null,
   "id": "b66e5fe0-9b65-4c05-9f5d-60f812b5270a",
   "metadata": {},
   "outputs": [],
   "source": [
    "my_counter('number_of_employees')"
   ]
  },
  {
   "cell_type": "markdown",
   "id": "3dadad38-2e11-49a2-9707-7dc755c5f29c",
   "metadata": {},
   "source": [
    "## Years Employed"
   ]
  },
  {
   "cell_type": "code",
   "execution_count": null,
   "id": "8eff932e-b162-482c-a97b-a1d9b27478e8",
   "metadata": {},
   "outputs": [],
   "source": [
    "data.describe()"
   ]
  },
  {
   "cell_type": "code",
   "execution_count": null,
   "id": "101a2a6f-bcb0-43f1-9e97-a0c957a0f82a",
   "metadata": {},
   "outputs": [],
   "source": [
    "import numpy as np\n",
    "data['years_employed'] = np.floor(data['years_employed']).astype(int)"
   ]
  },
  {
   "cell_type": "code",
   "execution_count": null,
   "id": "5c8adc72-2b4b-41fd-8bb1-f9e171d46aa4",
   "metadata": {},
   "outputs": [],
   "source": [
    "data.head(2)"
   ]
  },
  {
   "cell_type": "markdown",
   "id": "35170f03-020b-40a5-87d4-08d2e3b99760",
   "metadata": {},
   "source": [
    "## Has Mental Health Flag"
   ]
  },
  {
   "cell_type": "code",
   "execution_count": null,
   "id": "a88a673c-0cfb-43ea-aad5-c43a2792a1ef",
   "metadata": {},
   "outputs": [],
   "source": [
    "my_counter('has_mental_health')"
   ]
  },
  {
   "cell_type": "code",
   "execution_count": null,
   "id": "19e2cdc4-6880-4dbf-9112-eac584f3cb6b",
   "metadata": {},
   "outputs": [],
   "source": [
    "data[(data['has_mental_health'] == 'Yes') & (data['conditions'].isnull())]"
   ]
  },
  {
   "cell_type": "markdown",
   "id": "53fe6264-1494-444c-a8d5-4d2ce3f6c31c",
   "metadata": {
    "tags": []
   },
   "source": [
    "# Null Values"
   ]
  },
  {
   "cell_type": "markdown",
   "id": "864233a4-7fb4-4e88-b371-cd61468f56fb",
   "metadata": {},
   "source": [
    "Three options:\n",
    "1) Fill the value (mean, previous, etc..) if possible and appropriate\n",
    "2) Remove the row if not too many NULLs\n",
    "3) Remove the column, often if too many NULLs to effectively analyse"
   ]
  },
  {
   "cell_type": "code",
   "execution_count": null,
   "id": "5ac7609b",
   "metadata": {},
   "outputs": [],
   "source": [
    "data.isnull() \\\n",
    "    .sum() \\\n",
    "    .sort_values(ascending = False)"
   ]
  },
  {
   "cell_type": "code",
   "execution_count": null,
   "id": "0385ddce-f188-4493-8b0f-17b53550c249",
   "metadata": {},
   "outputs": [],
   "source": [
    "data"
   ]
  },
  {
   "cell_type": "code",
   "execution_count": null,
   "id": "f1b7235f-80b5-4fbd-b644-18a259d6f105",
   "metadata": {},
   "outputs": [],
   "source": [
    "data = data[~data['gender'].isnull()]"
   ]
  },
  {
   "cell_type": "code",
   "execution_count": null,
   "id": "cf644d44-b66c-4501-a20c-c127629bf8c3",
   "metadata": {},
   "outputs": [],
   "source": [
    "data = data.drop('conditions', axis = 1)"
   ]
  },
  {
   "cell_type": "code",
   "execution_count": null,
   "id": "98522951-2f41-4a77-b848-a4c9b5c43c69",
   "metadata": {},
   "outputs": [],
   "source": [
    "data.loc[data['self_employed'] == True, 'number_of_employees'] = 'Self Employed'"
   ]
  },
  {
   "cell_type": "code",
   "execution_count": null,
   "id": "e6d50392-23f2-4e09-bc8c-57b64916ad31",
   "metadata": {},
   "outputs": [],
   "source": [
    "data.isnull() \\\n",
    "    .sum() \\\n",
    "    .sort_values(ascending = False)"
   ]
  },
  {
   "cell_type": "markdown",
   "id": "eca7d504-6bfd-4ec9-9019-e37d2e4d5679",
   "metadata": {},
   "source": [
    "# Analysis using Seaborn, functions and Loops"
   ]
  },
  {
   "cell_type": "code",
   "execution_count": null,
   "id": "802ffc99-af86-4897-8521-9140038f5963",
   "metadata": {},
   "outputs": [],
   "source": [
    "df = data[['gender', 'has_mental_health']].value_counts() \\\n",
    "                                          .rename('count') \\\n",
    "                                          .reset_index()"
   ]
  },
  {
   "cell_type": "code",
   "execution_count": null,
   "id": "18cd3c93-4a6f-4716-89c0-efd4106f5350",
   "metadata": {},
   "outputs": [],
   "source": [
    "df"
   ]
  },
  {
   "cell_type": "code",
   "execution_count": null,
   "id": "c5af7544-ff19-48d7-93f4-2b1f3f40914f",
   "metadata": {},
   "outputs": [],
   "source": [
    "df['proportion'] = df['count'] / df.groupby('gender')['count'].transform('sum')"
   ]
  },
  {
   "cell_type": "code",
   "execution_count": null,
   "id": "96f438ea-5b95-484f-b8cf-6acffa0d1bdd",
   "metadata": {},
   "outputs": [],
   "source": [
    "df"
   ]
  },
  {
   "cell_type": "code",
   "execution_count": null,
   "id": "6dd8d1be-7dc6-4989-a078-c833c85e58d3",
   "metadata": {},
   "outputs": [],
   "source": [
    "import matplotlib.pyplot as plt\n",
    "import seaborn as sns\n",
    "\n",
    "plt.figure()\n",
    "plt.figure(figsize=(15, 5))\n",
    "plot = sns.barplot(data=df, x='gender', y='proportion', hue='has_mental_health')\n",
    "plot.set_xlabel('Gender')\n",
    "plot.set_ylabel('Proportion')\n",
    "plot.set_title('Proportion of those who have mental health by Gender')"
   ]
  },
  {
   "cell_type": "code",
   "execution_count": null,
   "id": "bcde131e-5728-4a1c-b11e-e7a29c13d018",
   "metadata": {},
   "outputs": [],
   "source": [
    "for i in [1, 2, 3, 4, 5]:\n",
    "  print(50 * i)"
   ]
  },
  {
   "cell_type": "code",
   "execution_count": null,
   "id": "7ef91d91-824a-4f55-901e-28038a5ef37b",
   "metadata": {},
   "outputs": [],
   "source": [
    "data.columns"
   ]
  },
  {
   "cell_type": "code",
   "execution_count": null,
   "id": "70a5519f-b04c-4239-883f-26aa4f8a83b1",
   "metadata": {},
   "outputs": [],
   "source": [
    "for column in ['gender', 'self_employed', 'number_of_employees']:\n",
    "  df = data[[column, 'has_mental_health']].value_counts() \\\n",
    "                                 .rename('count') \\\n",
    "                                 .reset_index()\n",
    "  \n",
    "  df['proportion'] = df['count'] / df.groupby(column)['count'].transform('sum')\n",
    "  \n",
    "  plt.figure()\n",
    "  plt.figure(figsize=(15, 5))\n",
    "  plot = sns.barplot(data = df, x = column, y = 'proportion', hue = 'has_mental_health')\n",
    "  plot.set_xlabel(column)\n",
    "  plot.set_ylabel('Proportion')\n",
    "  plot.set_title('Proportion of those who have mental health by ' + column)"
   ]
  },
  {
   "cell_type": "code",
   "execution_count": null,
   "id": "c8205d7f-9ec1-401b-9b5c-045366e17af8",
   "metadata": {},
   "outputs": [],
   "source": [
    "def my_plotter(column, legend_col):\n",
    "  df = data[[column, legend_col]].value_counts() \\\n",
    "                                 .rename('count') \\\n",
    "                                 .reset_index()\n",
    "  \n",
    "  df['proportion'] = df['count'] / df.groupby(column)['count'].transform('sum')\n",
    "  \n",
    "  plt.figure()\n",
    "  plt.figure(figsize=(15, 5))\n",
    "  plot = sns.barplot(data = df, x = column, y = 'proportion', hue = legend_col)\n",
    "  plot.set_xlabel(column)\n",
    "  plot.set_ylabel('Proportion')\n",
    "  plot.set_title('Proportion of ' + legend_col + ' by ' + column)"
   ]
  },
  {
   "cell_type": "code",
   "execution_count": null,
   "id": "49da96d5-6468-492e-b8d4-13bd51d2de7c",
   "metadata": {},
   "outputs": [],
   "source": [
    "my_plotter('gender', 'has_mental_health')"
   ]
  },
  {
   "cell_type": "code",
   "execution_count": null,
   "id": "5bf0a1f8-463b-480f-a327-b3a5228ef194",
   "metadata": {},
   "outputs": [],
   "source": [
    "for column in ['gender', 'self_employed']:\n",
    "  my_plotter(column, 'number_of_employees')"
   ]
  }
 ],
 "metadata": {
  "kernelspec": {
   "display_name": "Python 3 (ipykernel)",
   "language": "python",
   "name": "python3"
  },
  "language_info": {
   "codemirror_mode": {
    "name": "ipython",
    "version": 3
   },
   "file_extension": ".py",
   "mimetype": "text/x-python",
   "name": "python",
   "nbconvert_exporter": "python",
   "pygments_lexer": "ipython3",
   "version": "3.8.13"
  }
 },
 "nbformat": 4,
 "nbformat_minor": 5
}
