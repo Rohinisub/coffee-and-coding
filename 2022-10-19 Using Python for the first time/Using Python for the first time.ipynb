{
 "cells": [
  {
   "cell_type": "markdown",
   "id": "81a47f76-3023-4b45-8a6b-2d7dbbb01d49",
   "metadata": {
    "tags": []
   },
   "source": [
    "# What is Python, Jupyter and Anaconda?\n",
    "\n",
    "Python, Jupyter and Anaconda are three distinctly different applications that serve different purposes.\n",
    "\n",
    "* Python is the software that performs the actual instructions. Without Python installed on your computer or server, you would not be able to run any commands.\n",
    "\n",
    "* Jupyter, either using Jupyter Notebooks or JupyterLab, is the software that provides an interface to Python. It’s sometimes referred to as an Integrated Development Environment (IDE). Its purpose is to provide bells and whistles that can make Python easy to use and access. Other IDEs are also available for Python, though Jupyter is the most popular.\n",
    "\n",
    "* Anaconda is a distribution manager, which one can use to access Jupyter and other IDEs, storing everything within one place.\n",
    "\n",
    "# Where do I download Python?\n",
    "\n",
    "The easiest way to access and work with Python is through Anaconda. \n",
    "\n",
    "If you need Anaconda on your work laptop, you will need to raise a service request. \n",
    "\n",
    "To download on a personal latop, the following links can be used: https://www.anaconda.com/.\n",
    "\n",
    "# Getting started\n",
    "\n",
    "To launch Anaconda, use the 'Anaconda Navigator'. After launching, you should a screen similar to the below.\n",
    "\n",
    "<div>\n",
    "<img src=\"Images/Anaconda.png\" width=\"500\"/>\n",
    "</div>\n",
    "\n",
    "Now click on 'launch' for JupyterLab to load up an instance of Jupyter. Once open, you should be greeted with something like the below.\n",
    "\n",
    "<div>\n",
    "<img src=\"Images/Jupyter.png\" width=\"750\"/>\n",
    "</div>\n",
    "\n",
    "## Opening and saving a new script\n",
    "\n",
    "Now on the left hand side, simply navigate to the folder you would like to create a Python file in and then click on the Python3 button under 'Notebook' in the middle. Once done, you should get a screen like so.\n",
    "\n",
    "<div>\n",
    "<img src=\"Images/Notebook.png\" width=\"500\"/>\n",
    "</div>\n",
    "\n",
    "Note that all files save automatically. You can also save by clicking the flopping disk on the top bar. \n",
    "\n",
    "Here we are presented with a empty box in the middle known as a 'code chunk', where we write our code. \n",
    "\n",
    "For example if you type 2+2 in the box and run it, by either pressing the play button or using Ctrl+Enter, we will get 4. When ran, a new chunk appears automatically. You can click the '+' button to create additional boxes.\n",
    "\n",
    "Python has many in built functions you can use to perform specific tasks but additional packages are available that can make these tasks easier to perform or allow additional functionality compared to the base functions. \n",
    "\n",
    "In the script you can write notes to go with your code it you add # in front of any text it will make it as a note. \n",
    "\n",
    "# Packages\n",
    "\n",
    "## What are packages? \n",
    "Packages are collections of Python functions, data, and compiled code in a well-defined format, created to add specific functionality. There are 10,000+ user contributed packages and growing.\n",
    "\n",
    "## How to install a package\n",
    "Packages for Python can be installed using a program called Pip.  \n",
    "\n",
    "* First, navigate back to the launcher by clicking the blue '+' in the top left, just above your files.\n",
    "* Then, open the 'terminal'. \n",
    "* Finally, type `pip install package-name`, swapping \"package name\" with the name of the package you want to install.\n",
    "\n",
    "The mostly commonly used package for data manipulation is `pandas`. Lets install pandas using `pip install pandas` within the terminal.\n",
    "\n",
    "## Using a package\n",
    "Once installed, you need to use the `import` function to load the package you want to use on your script. For this demo, we will be using the following packages:\n"
   ]
  },
  {
   "cell_type": "code",
   "execution_count": 1,
   "id": "4270314d-a5a3-4cb9-8cf0-e12a2c6be24a",
   "metadata": {},
   "outputs": [],
   "source": [
    "import pandas as pd"
   ]
  },
  {
   "cell_type": "markdown",
   "id": "79c1e4fe-5b0d-438a-8c17-eecee898a73e",
   "metadata": {},
   "source": [
    "\"as pd\" here is not required but is common practice, making the package easier to call in the next section.\n",
    "\n",
    "## Getting help with a package\n",
    "\n",
    "Within a package there are functions which are “self contained” modules of code that accomplish a specific task. Functions usually take in some sort of data structure (value, vector, dataframe etc.), process it, and return a result. \n",
    "\n",
    "For each package, there is documentation produced which provides information on the different functions it contains and gives examples of how to use the function. These can be accessed by simply googling the documentation for the package. For example, here is the documentation for `pandas`: https://pandas.pydata.org/docs/user_guide/index.html#user-guide.\n",
    "\n",
    "\n",
    "# Working directory\n",
    "The working directory is the file path for the directory you are working in on your computer. This is the location Python will look in for any files you are trying to read in. It is also where Python will store any output you save by default.  Note: you can specify the file path when loading/saving if the working directory is not what you want/need.\n",
    "\n",
    "## Set working directory\n",
    "\n",
    "You can set the working directory to a specific folder on your computer, so for example a project folder where you may have data saved that you would like to upload in to Python. **Following the above example, you have already done this, by navigating to the desired folder using the bar on the left hand side.**\n",
    "\n",
    "# Loading Data into Python\n",
    "\n",
    "You can load many data formats in to Python, this session will cover reading in CSV and Excel files as these are the two most common file types you might want to load. \n",
    "\n",
    "## Load a CSV\n",
    "Since Python is a general perpose programming language, it does not have any inbuilt functionality to read csv files. Therefore, we first must import the `pandas` package, like we did above, which is commonly used for data manipulation.\n",
    "\n",
    "Having set your working directory to the folder your data is saved in above, you can use the following code and just add the name of the CSV file in the brackets. When you load the data in, you need to give the dataframe you are creating in Python. If for example you wanted to import a csv file called MyData and call the table first_table then you would use the following code. In the code you put the name you want to call the table in Python first, followed by `=`.\n",
    "\n",
    "Since we are using the pandas package, which we assigned to \"pd\" above, we must use `pd.read_csv(...)` here."
   ]
  },
  {
   "cell_type": "code",
   "execution_count": 2,
   "id": "70dd1f12-ffd5-420b-ac18-5e02e997bbde",
   "metadata": {},
   "outputs": [],
   "source": [
    "first_table = pd.read_csv(\"Mydata.csv\")"
   ]
  },
  {
   "cell_type": "code",
   "execution_count": 3,
   "id": "16ecb974-3490-4799-ad82-498d8912c1ff",
   "metadata": {},
   "outputs": [
    {
     "data": {
      "text/html": [
       "<div>\n",
       "<style scoped>\n",
       "    .dataframe tbody tr th:only-of-type {\n",
       "        vertical-align: middle;\n",
       "    }\n",
       "\n",
       "    .dataframe tbody tr th {\n",
       "        vertical-align: top;\n",
       "    }\n",
       "\n",
       "    .dataframe thead th {\n",
       "        text-align: right;\n",
       "    }\n",
       "</style>\n",
       "<table border=\"1\" class=\"dataframe\">\n",
       "  <thead>\n",
       "    <tr style=\"text-align: right;\">\n",
       "      <th></th>\n",
       "      <th>name</th>\n",
       "      <th>gender</th>\n",
       "      <th>age</th>\n",
       "    </tr>\n",
       "  </thead>\n",
       "  <tbody>\n",
       "    <tr>\n",
       "      <th>0</th>\n",
       "      <td>Sarah</td>\n",
       "      <td>F</td>\n",
       "      <td>42</td>\n",
       "    </tr>\n",
       "    <tr>\n",
       "      <th>1</th>\n",
       "      <td>Lucy</td>\n",
       "      <td>F</td>\n",
       "      <td>21</td>\n",
       "    </tr>\n",
       "    <tr>\n",
       "      <th>2</th>\n",
       "      <td>Tom</td>\n",
       "      <td>M</td>\n",
       "      <td>34</td>\n",
       "    </tr>\n",
       "  </tbody>\n",
       "</table>\n",
       "</div>"
      ],
      "text/plain": [
       "    name gender  age\n",
       "0  Sarah      F   42\n",
       "1   Lucy      F   21\n",
       "2    Tom      M   34"
      ]
     },
     "execution_count": 3,
     "metadata": {},
     "output_type": "execute_result"
    }
   ],
   "source": [
    "first_table"
   ]
  },
  {
   "cell_type": "markdown",
   "id": "941f250c-6458-4e08-9a94-d78b50580e86",
   "metadata": {},
   "source": [
    "If the data you want to load is in a different location to your working directory then you would need to add the file path to where the data is saved to load the data in. For example"
   ]
  },
  {
   "cell_type": "code",
   "execution_count": 4,
   "id": "e27b54a4-cbbb-4b4c-bacc-361efdfd2d80",
   "metadata": {},
   "outputs": [],
   "source": [
    "second_table = pd.read_csv(\"C:/Users/RYLEG/Desktop/Mydata2.csv\")"
   ]
  },
  {
   "cell_type": "code",
   "execution_count": 5,
   "id": "49f89fdb-513c-458a-937d-63ec3d764661",
   "metadata": {},
   "outputs": [
    {
     "data": {
      "text/html": [
       "<div>\n",
       "<style scoped>\n",
       "    .dataframe tbody tr th:only-of-type {\n",
       "        vertical-align: middle;\n",
       "    }\n",
       "\n",
       "    .dataframe tbody tr th {\n",
       "        vertical-align: top;\n",
       "    }\n",
       "\n",
       "    .dataframe thead th {\n",
       "        text-align: right;\n",
       "    }\n",
       "</style>\n",
       "<table border=\"1\" class=\"dataframe\">\n",
       "  <thead>\n",
       "    <tr style=\"text-align: right;\">\n",
       "      <th></th>\n",
       "      <th>name</th>\n",
       "      <th>gender</th>\n",
       "      <th>age</th>\n",
       "    </tr>\n",
       "  </thead>\n",
       "  <tbody>\n",
       "    <tr>\n",
       "      <th>0</th>\n",
       "      <td>Andrew</td>\n",
       "      <td>M</td>\n",
       "      <td>58</td>\n",
       "    </tr>\n",
       "    <tr>\n",
       "      <th>1</th>\n",
       "      <td>Jane</td>\n",
       "      <td>F</td>\n",
       "      <td>72</td>\n",
       "    </tr>\n",
       "    <tr>\n",
       "      <th>2</th>\n",
       "      <td>Jordan</td>\n",
       "      <td>M</td>\n",
       "      <td>21</td>\n",
       "    </tr>\n",
       "  </tbody>\n",
       "</table>\n",
       "</div>"
      ],
      "text/plain": [
       "     name gender  age\n",
       "0  Andrew      M   58\n",
       "1    Jane      F   72\n",
       "2  Jordan      M   21"
      ]
     },
     "execution_count": 5,
     "metadata": {},
     "output_type": "execute_result"
    }
   ],
   "source": [
    "second_table"
   ]
  },
  {
   "cell_type": "markdown",
   "id": "b806a420-1b8d-4189-b0de-b03e4f2a86bf",
   "metadata": {},
   "source": [
    "As we can see above, simply typing the name of the table allows us to see the contents. For bigger tables, you may want to use the following commands to see more data:"
   ]
  },
  {
   "cell_type": "code",
   "execution_count": 6,
   "id": "2f730b07-0a7d-4042-92f2-e70a1c2f7ffe",
   "metadata": {},
   "outputs": [],
   "source": [
    "pd.set_option('display.max_rows', 500)\n",
    "pd.set_option('display.max_columns', 500)"
   ]
  },
  {
   "cell_type": "markdown",
   "id": "e747399a-83b7-49a9-ad6c-426817f0f7ac",
   "metadata": {},
   "source": [
    "## Load an excel file\n",
    "\n",
    "To load an excel file, we can use `pandas` again but must also install `openpyxl` using `pip install openpyxl` like we did above.\n",
    "\n",
    "Using a similar logic to the CSV files, we use `pd.read_excel(...)` like so:"
   ]
  },
  {
   "cell_type": "code",
   "execution_count": 7,
   "id": "961813ab-890d-4ba3-868c-5e1220587528",
   "metadata": {},
   "outputs": [],
   "source": [
    "third_table = pd.read_excel(\"Mydata.xlsx\", \"Sheet1\")"
   ]
  },
  {
   "cell_type": "code",
   "execution_count": 8,
   "id": "d8e13cc3-3e7a-404a-8401-2b5c2b95a92b",
   "metadata": {},
   "outputs": [
    {
     "data": {
      "text/html": [
       "<div>\n",
       "<style scoped>\n",
       "    .dataframe tbody tr th:only-of-type {\n",
       "        vertical-align: middle;\n",
       "    }\n",
       "\n",
       "    .dataframe tbody tr th {\n",
       "        vertical-align: top;\n",
       "    }\n",
       "\n",
       "    .dataframe thead th {\n",
       "        text-align: right;\n",
       "    }\n",
       "</style>\n",
       "<table border=\"1\" class=\"dataframe\">\n",
       "  <thead>\n",
       "    <tr style=\"text-align: right;\">\n",
       "      <th></th>\n",
       "      <th>name</th>\n",
       "      <th>gender</th>\n",
       "      <th>age</th>\n",
       "    </tr>\n",
       "  </thead>\n",
       "  <tbody>\n",
       "    <tr>\n",
       "      <th>0</th>\n",
       "      <td>Sarah</td>\n",
       "      <td>F</td>\n",
       "      <td>42</td>\n",
       "    </tr>\n",
       "    <tr>\n",
       "      <th>1</th>\n",
       "      <td>Lucy</td>\n",
       "      <td>F</td>\n",
       "      <td>21</td>\n",
       "    </tr>\n",
       "    <tr>\n",
       "      <th>2</th>\n",
       "      <td>Tom</td>\n",
       "      <td>M</td>\n",
       "      <td>34</td>\n",
       "    </tr>\n",
       "  </tbody>\n",
       "</table>\n",
       "</div>"
      ],
      "text/plain": [
       "    name gender  age\n",
       "0  Sarah      F   42\n",
       "1   Lucy      F   21\n",
       "2    Tom      M   34"
      ]
     },
     "execution_count": 8,
     "metadata": {},
     "output_type": "execute_result"
    }
   ],
   "source": [
    "third_table"
   ]
  },
  {
   "cell_type": "markdown",
   "id": "d36664df-67eb-437a-9e92-e6d5cbeae808",
   "metadata": {},
   "source": [
    "Since Excel workbooks can contain multiple sheets, we must specify the sheet name here, using a comma between the data and the sheet name."
   ]
  },
  {
   "cell_type": "markdown",
   "id": "d5384bca-ba1d-4a94-a774-c1a6168dece7",
   "metadata": {},
   "source": [
    "# Simple anaylsis in Python\n",
    "\n",
    "For this section we are going to use a publicly available dataset called mtcars. Like above, we use `pd.read_csv(...)` to load the data and will use `pandas` for all of the analysis."
   ]
  },
  {
   "cell_type": "code",
   "execution_count": 9,
   "id": "a8bc91d3-1ead-4118-bc57-1ea246bfc53f",
   "metadata": {},
   "outputs": [],
   "source": [
    "mtcars = pd.read_csv(\"mtcars.csv\")"
   ]
  },
  {
   "cell_type": "code",
   "execution_count": 10,
   "id": "3468b238-3175-4b32-bf7b-5ac4d03bf3da",
   "metadata": {},
   "outputs": [
    {
     "data": {
      "text/html": [
       "<div>\n",
       "<style scoped>\n",
       "    .dataframe tbody tr th:only-of-type {\n",
       "        vertical-align: middle;\n",
       "    }\n",
       "\n",
       "    .dataframe tbody tr th {\n",
       "        vertical-align: top;\n",
       "    }\n",
       "\n",
       "    .dataframe thead th {\n",
       "        text-align: right;\n",
       "    }\n",
       "</style>\n",
       "<table border=\"1\" class=\"dataframe\">\n",
       "  <thead>\n",
       "    <tr style=\"text-align: right;\">\n",
       "      <th></th>\n",
       "      <th>model</th>\n",
       "      <th>mpg</th>\n",
       "      <th>cyl</th>\n",
       "      <th>disp</th>\n",
       "      <th>hp</th>\n",
       "      <th>drat</th>\n",
       "      <th>wt</th>\n",
       "      <th>qsec</th>\n",
       "      <th>vs</th>\n",
       "      <th>am</th>\n",
       "      <th>gear</th>\n",
       "      <th>carb</th>\n",
       "    </tr>\n",
       "  </thead>\n",
       "  <tbody>\n",
       "    <tr>\n",
       "      <th>0</th>\n",
       "      <td>Mazda RX4</td>\n",
       "      <td>21.0</td>\n",
       "      <td>6</td>\n",
       "      <td>160.0</td>\n",
       "      <td>110</td>\n",
       "      <td>3.90</td>\n",
       "      <td>2.620</td>\n",
       "      <td>16.46</td>\n",
       "      <td>0</td>\n",
       "      <td>1</td>\n",
       "      <td>4</td>\n",
       "      <td>4</td>\n",
       "    </tr>\n",
       "    <tr>\n",
       "      <th>1</th>\n",
       "      <td>Mazda RX4 Wag</td>\n",
       "      <td>21.0</td>\n",
       "      <td>6</td>\n",
       "      <td>160.0</td>\n",
       "      <td>110</td>\n",
       "      <td>3.90</td>\n",
       "      <td>2.875</td>\n",
       "      <td>17.02</td>\n",
       "      <td>0</td>\n",
       "      <td>1</td>\n",
       "      <td>4</td>\n",
       "      <td>4</td>\n",
       "    </tr>\n",
       "    <tr>\n",
       "      <th>2</th>\n",
       "      <td>Datsun 710</td>\n",
       "      <td>22.8</td>\n",
       "      <td>4</td>\n",
       "      <td>108.0</td>\n",
       "      <td>93</td>\n",
       "      <td>3.85</td>\n",
       "      <td>2.320</td>\n",
       "      <td>18.61</td>\n",
       "      <td>1</td>\n",
       "      <td>1</td>\n",
       "      <td>4</td>\n",
       "      <td>1</td>\n",
       "    </tr>\n",
       "    <tr>\n",
       "      <th>3</th>\n",
       "      <td>Hornet 4 Drive</td>\n",
       "      <td>21.4</td>\n",
       "      <td>6</td>\n",
       "      <td>258.0</td>\n",
       "      <td>110</td>\n",
       "      <td>3.08</td>\n",
       "      <td>3.215</td>\n",
       "      <td>19.44</td>\n",
       "      <td>1</td>\n",
       "      <td>0</td>\n",
       "      <td>3</td>\n",
       "      <td>1</td>\n",
       "    </tr>\n",
       "    <tr>\n",
       "      <th>4</th>\n",
       "      <td>Hornet Sportabout</td>\n",
       "      <td>18.7</td>\n",
       "      <td>8</td>\n",
       "      <td>360.0</td>\n",
       "      <td>175</td>\n",
       "      <td>3.15</td>\n",
       "      <td>3.440</td>\n",
       "      <td>17.02</td>\n",
       "      <td>0</td>\n",
       "      <td>0</td>\n",
       "      <td>3</td>\n",
       "      <td>2</td>\n",
       "    </tr>\n",
       "    <tr>\n",
       "      <th>5</th>\n",
       "      <td>Valiant</td>\n",
       "      <td>18.1</td>\n",
       "      <td>6</td>\n",
       "      <td>225.0</td>\n",
       "      <td>105</td>\n",
       "      <td>2.76</td>\n",
       "      <td>3.460</td>\n",
       "      <td>20.22</td>\n",
       "      <td>1</td>\n",
       "      <td>0</td>\n",
       "      <td>3</td>\n",
       "      <td>1</td>\n",
       "    </tr>\n",
       "    <tr>\n",
       "      <th>6</th>\n",
       "      <td>Duster 360</td>\n",
       "      <td>14.3</td>\n",
       "      <td>8</td>\n",
       "      <td>360.0</td>\n",
       "      <td>245</td>\n",
       "      <td>3.21</td>\n",
       "      <td>3.570</td>\n",
       "      <td>15.84</td>\n",
       "      <td>0</td>\n",
       "      <td>0</td>\n",
       "      <td>3</td>\n",
       "      <td>4</td>\n",
       "    </tr>\n",
       "    <tr>\n",
       "      <th>7</th>\n",
       "      <td>Merc 240D</td>\n",
       "      <td>24.4</td>\n",
       "      <td>4</td>\n",
       "      <td>146.7</td>\n",
       "      <td>62</td>\n",
       "      <td>3.69</td>\n",
       "      <td>3.190</td>\n",
       "      <td>20.00</td>\n",
       "      <td>1</td>\n",
       "      <td>0</td>\n",
       "      <td>4</td>\n",
       "      <td>2</td>\n",
       "    </tr>\n",
       "    <tr>\n",
       "      <th>8</th>\n",
       "      <td>Merc 230</td>\n",
       "      <td>22.8</td>\n",
       "      <td>4</td>\n",
       "      <td>140.8</td>\n",
       "      <td>95</td>\n",
       "      <td>3.92</td>\n",
       "      <td>3.150</td>\n",
       "      <td>22.90</td>\n",
       "      <td>1</td>\n",
       "      <td>0</td>\n",
       "      <td>4</td>\n",
       "      <td>2</td>\n",
       "    </tr>\n",
       "    <tr>\n",
       "      <th>9</th>\n",
       "      <td>Merc 280</td>\n",
       "      <td>19.2</td>\n",
       "      <td>6</td>\n",
       "      <td>167.6</td>\n",
       "      <td>123</td>\n",
       "      <td>3.92</td>\n",
       "      <td>3.440</td>\n",
       "      <td>18.30</td>\n",
       "      <td>1</td>\n",
       "      <td>0</td>\n",
       "      <td>4</td>\n",
       "      <td>4</td>\n",
       "    </tr>\n",
       "  </tbody>\n",
       "</table>\n",
       "</div>"
      ],
      "text/plain": [
       "               model   mpg  cyl   disp   hp  drat     wt   qsec  vs  am  gear  \\\n",
       "0          Mazda RX4  21.0    6  160.0  110  3.90  2.620  16.46   0   1     4   \n",
       "1      Mazda RX4 Wag  21.0    6  160.0  110  3.90  2.875  17.02   0   1     4   \n",
       "2         Datsun 710  22.8    4  108.0   93  3.85  2.320  18.61   1   1     4   \n",
       "3     Hornet 4 Drive  21.4    6  258.0  110  3.08  3.215  19.44   1   0     3   \n",
       "4  Hornet Sportabout  18.7    8  360.0  175  3.15  3.440  17.02   0   0     3   \n",
       "5            Valiant  18.1    6  225.0  105  2.76  3.460  20.22   1   0     3   \n",
       "6         Duster 360  14.3    8  360.0  245  3.21  3.570  15.84   0   0     3   \n",
       "7          Merc 240D  24.4    4  146.7   62  3.69  3.190  20.00   1   0     4   \n",
       "8           Merc 230  22.8    4  140.8   95  3.92  3.150  22.90   1   0     4   \n",
       "9           Merc 280  19.2    6  167.6  123  3.92  3.440  18.30   1   0     4   \n",
       "\n",
       "   carb  \n",
       "0     4  \n",
       "1     4  \n",
       "2     1  \n",
       "3     1  \n",
       "4     2  \n",
       "5     1  \n",
       "6     4  \n",
       "7     2  \n",
       "8     2  \n",
       "9     4  "
      ]
     },
     "execution_count": 10,
     "metadata": {},
     "output_type": "execute_result"
    }
   ],
   "source": [
    "mtcars.head(10)"
   ]
  },
  {
   "cell_type": "markdown",
   "id": "d653275e-cd41-4423-847c-6ad3dc7ee86f",
   "metadata": {},
   "source": [
    "By doing `mtcars.head(10)` above, we take the \"head\" of the dataset, presenting the first 10 rows to avoid congesting the notebook.\n",
    "\n",
    "## Sum up a column\n",
    "\n",
    "If you want to get a sum of a column you can use the `sum()` function in `pandas`.The following code will give you a data output item with the sum of all of the cylinders of the 32 cars in the mtcar data set. In this example we are creating a data object called num_cyl to keep a record of the value. \n",
    "\n",
    "We first specifiy that we only want to use the 'cyl' column using the format `dataset['column'] `. Then we apply a \"pipe\" to use the summaries function, the pipe is `.`."
   ]
  },
  {
   "cell_type": "code",
   "execution_count": 11,
   "id": "61438edd-83e5-4692-8b0a-1937017e4799",
   "metadata": {},
   "outputs": [],
   "source": [
    "num_cyl = mtcars['cyl'].sum()"
   ]
  },
  {
   "cell_type": "code",
   "execution_count": 12,
   "id": "cf33f55e-43d8-468e-9b3f-88f48e61727f",
   "metadata": {},
   "outputs": [
    {
     "data": {
      "text/plain": [
       "198"
      ]
     },
     "execution_count": 12,
     "metadata": {},
     "output_type": "execute_result"
    }
   ],
   "source": [
    "num_cyl"
   ]
  },
  {
   "cell_type": "markdown",
   "id": "4f36fd3c-7bd4-4fee-945f-548fd1d15538",
   "metadata": {},
   "source": [
    "## Filter rows\n",
    "\n",
    "If you want to filter rows from the table, for example you only want to look at cars with 4 cylinders the following code can be used. A double = is used for an exact match. "
   ]
  },
  {
   "cell_type": "code",
   "execution_count": 13,
   "id": "b3f3b7d5-8bf1-4b5b-ad56-ff0590cb6949",
   "metadata": {},
   "outputs": [],
   "source": [
    "Cylinders4 = mtcars[mtcars['cyl'] == 4]"
   ]
  },
  {
   "cell_type": "code",
   "execution_count": 14,
   "id": "d8ba83d2-6bad-457f-b878-acd08f2e32d1",
   "metadata": {},
   "outputs": [
    {
     "data": {
      "text/html": [
       "<div>\n",
       "<style scoped>\n",
       "    .dataframe tbody tr th:only-of-type {\n",
       "        vertical-align: middle;\n",
       "    }\n",
       "\n",
       "    .dataframe tbody tr th {\n",
       "        vertical-align: top;\n",
       "    }\n",
       "\n",
       "    .dataframe thead th {\n",
       "        text-align: right;\n",
       "    }\n",
       "</style>\n",
       "<table border=\"1\" class=\"dataframe\">\n",
       "  <thead>\n",
       "    <tr style=\"text-align: right;\">\n",
       "      <th></th>\n",
       "      <th>model</th>\n",
       "      <th>mpg</th>\n",
       "      <th>cyl</th>\n",
       "      <th>disp</th>\n",
       "      <th>hp</th>\n",
       "      <th>drat</th>\n",
       "      <th>wt</th>\n",
       "      <th>qsec</th>\n",
       "      <th>vs</th>\n",
       "      <th>am</th>\n",
       "      <th>gear</th>\n",
       "      <th>carb</th>\n",
       "    </tr>\n",
       "  </thead>\n",
       "  <tbody>\n",
       "    <tr>\n",
       "      <th>2</th>\n",
       "      <td>Datsun 710</td>\n",
       "      <td>22.8</td>\n",
       "      <td>4</td>\n",
       "      <td>108.0</td>\n",
       "      <td>93</td>\n",
       "      <td>3.85</td>\n",
       "      <td>2.320</td>\n",
       "      <td>18.61</td>\n",
       "      <td>1</td>\n",
       "      <td>1</td>\n",
       "      <td>4</td>\n",
       "      <td>1</td>\n",
       "    </tr>\n",
       "    <tr>\n",
       "      <th>7</th>\n",
       "      <td>Merc 240D</td>\n",
       "      <td>24.4</td>\n",
       "      <td>4</td>\n",
       "      <td>146.7</td>\n",
       "      <td>62</td>\n",
       "      <td>3.69</td>\n",
       "      <td>3.190</td>\n",
       "      <td>20.00</td>\n",
       "      <td>1</td>\n",
       "      <td>0</td>\n",
       "      <td>4</td>\n",
       "      <td>2</td>\n",
       "    </tr>\n",
       "    <tr>\n",
       "      <th>8</th>\n",
       "      <td>Merc 230</td>\n",
       "      <td>22.8</td>\n",
       "      <td>4</td>\n",
       "      <td>140.8</td>\n",
       "      <td>95</td>\n",
       "      <td>3.92</td>\n",
       "      <td>3.150</td>\n",
       "      <td>22.90</td>\n",
       "      <td>1</td>\n",
       "      <td>0</td>\n",
       "      <td>4</td>\n",
       "      <td>2</td>\n",
       "    </tr>\n",
       "    <tr>\n",
       "      <th>17</th>\n",
       "      <td>Fiat 128</td>\n",
       "      <td>32.4</td>\n",
       "      <td>4</td>\n",
       "      <td>78.7</td>\n",
       "      <td>66</td>\n",
       "      <td>4.08</td>\n",
       "      <td>2.200</td>\n",
       "      <td>19.47</td>\n",
       "      <td>1</td>\n",
       "      <td>1</td>\n",
       "      <td>4</td>\n",
       "      <td>1</td>\n",
       "    </tr>\n",
       "    <tr>\n",
       "      <th>18</th>\n",
       "      <td>Honda Civic</td>\n",
       "      <td>30.4</td>\n",
       "      <td>4</td>\n",
       "      <td>75.7</td>\n",
       "      <td>52</td>\n",
       "      <td>4.93</td>\n",
       "      <td>1.615</td>\n",
       "      <td>18.52</td>\n",
       "      <td>1</td>\n",
       "      <td>1</td>\n",
       "      <td>4</td>\n",
       "      <td>2</td>\n",
       "    </tr>\n",
       "    <tr>\n",
       "      <th>19</th>\n",
       "      <td>Toyota Corolla</td>\n",
       "      <td>33.9</td>\n",
       "      <td>4</td>\n",
       "      <td>71.1</td>\n",
       "      <td>65</td>\n",
       "      <td>4.22</td>\n",
       "      <td>1.835</td>\n",
       "      <td>19.90</td>\n",
       "      <td>1</td>\n",
       "      <td>1</td>\n",
       "      <td>4</td>\n",
       "      <td>1</td>\n",
       "    </tr>\n",
       "    <tr>\n",
       "      <th>20</th>\n",
       "      <td>Toyota Corona</td>\n",
       "      <td>21.5</td>\n",
       "      <td>4</td>\n",
       "      <td>120.1</td>\n",
       "      <td>97</td>\n",
       "      <td>3.70</td>\n",
       "      <td>2.465</td>\n",
       "      <td>20.01</td>\n",
       "      <td>1</td>\n",
       "      <td>0</td>\n",
       "      <td>3</td>\n",
       "      <td>1</td>\n",
       "    </tr>\n",
       "    <tr>\n",
       "      <th>25</th>\n",
       "      <td>Fiat X1-9</td>\n",
       "      <td>27.3</td>\n",
       "      <td>4</td>\n",
       "      <td>79.0</td>\n",
       "      <td>66</td>\n",
       "      <td>4.08</td>\n",
       "      <td>1.935</td>\n",
       "      <td>18.90</td>\n",
       "      <td>1</td>\n",
       "      <td>1</td>\n",
       "      <td>4</td>\n",
       "      <td>1</td>\n",
       "    </tr>\n",
       "    <tr>\n",
       "      <th>26</th>\n",
       "      <td>Porsche 914-2</td>\n",
       "      <td>26.0</td>\n",
       "      <td>4</td>\n",
       "      <td>120.3</td>\n",
       "      <td>91</td>\n",
       "      <td>4.43</td>\n",
       "      <td>2.140</td>\n",
       "      <td>16.70</td>\n",
       "      <td>0</td>\n",
       "      <td>1</td>\n",
       "      <td>5</td>\n",
       "      <td>2</td>\n",
       "    </tr>\n",
       "    <tr>\n",
       "      <th>27</th>\n",
       "      <td>Lotus Europa</td>\n",
       "      <td>30.4</td>\n",
       "      <td>4</td>\n",
       "      <td>95.1</td>\n",
       "      <td>113</td>\n",
       "      <td>3.77</td>\n",
       "      <td>1.513</td>\n",
       "      <td>16.90</td>\n",
       "      <td>1</td>\n",
       "      <td>1</td>\n",
       "      <td>5</td>\n",
       "      <td>2</td>\n",
       "    </tr>\n",
       "    <tr>\n",
       "      <th>31</th>\n",
       "      <td>Volvo 142E</td>\n",
       "      <td>21.4</td>\n",
       "      <td>4</td>\n",
       "      <td>121.0</td>\n",
       "      <td>109</td>\n",
       "      <td>4.11</td>\n",
       "      <td>2.780</td>\n",
       "      <td>18.60</td>\n",
       "      <td>1</td>\n",
       "      <td>1</td>\n",
       "      <td>4</td>\n",
       "      <td>2</td>\n",
       "    </tr>\n",
       "  </tbody>\n",
       "</table>\n",
       "</div>"
      ],
      "text/plain": [
       "             model   mpg  cyl   disp   hp  drat     wt   qsec  vs  am  gear  \\\n",
       "2       Datsun 710  22.8    4  108.0   93  3.85  2.320  18.61   1   1     4   \n",
       "7        Merc 240D  24.4    4  146.7   62  3.69  3.190  20.00   1   0     4   \n",
       "8         Merc 230  22.8    4  140.8   95  3.92  3.150  22.90   1   0     4   \n",
       "17        Fiat 128  32.4    4   78.7   66  4.08  2.200  19.47   1   1     4   \n",
       "18     Honda Civic  30.4    4   75.7   52  4.93  1.615  18.52   1   1     4   \n",
       "19  Toyota Corolla  33.9    4   71.1   65  4.22  1.835  19.90   1   1     4   \n",
       "20   Toyota Corona  21.5    4  120.1   97  3.70  2.465  20.01   1   0     3   \n",
       "25       Fiat X1-9  27.3    4   79.0   66  4.08  1.935  18.90   1   1     4   \n",
       "26   Porsche 914-2  26.0    4  120.3   91  4.43  2.140  16.70   0   1     5   \n",
       "27    Lotus Europa  30.4    4   95.1  113  3.77  1.513  16.90   1   1     5   \n",
       "31      Volvo 142E  21.4    4  121.0  109  4.11  2.780  18.60   1   1     4   \n",
       "\n",
       "    carb  \n",
       "2      1  \n",
       "7      2  \n",
       "8      2  \n",
       "17     1  \n",
       "18     2  \n",
       "19     1  \n",
       "20     1  \n",
       "25     1  \n",
       "26     2  \n",
       "27     2  \n",
       "31     2  "
      ]
     },
     "execution_count": 14,
     "metadata": {},
     "output_type": "execute_result"
    }
   ],
   "source": [
    "Cylinders4"
   ]
  },
  {
   "cell_type": "markdown",
   "id": "629cd977-fa1a-496f-8ee9-afe9c20194b7",
   "metadata": {},
   "source": [
    "If you want to filter on more than one column, for example it we want cars with 4 cylinders that get more than 30 mpg then the following code can be used."
   ]
  },
  {
   "cell_type": "code",
   "execution_count": 15,
   "id": "30bb9e11-7910-4e73-8120-f39eb59df2b5",
   "metadata": {},
   "outputs": [],
   "source": [
    "Cylinders4_mpgn = mtcars[(mtcars['cyl'] == 4) & (mtcars['mpg'] > 30)]"
   ]
  },
  {
   "cell_type": "code",
   "execution_count": 16,
   "id": "dd10aac1-69d9-4fab-a708-aa1eab9f53d2",
   "metadata": {},
   "outputs": [
    {
     "data": {
      "text/html": [
       "<div>\n",
       "<style scoped>\n",
       "    .dataframe tbody tr th:only-of-type {\n",
       "        vertical-align: middle;\n",
       "    }\n",
       "\n",
       "    .dataframe tbody tr th {\n",
       "        vertical-align: top;\n",
       "    }\n",
       "\n",
       "    .dataframe thead th {\n",
       "        text-align: right;\n",
       "    }\n",
       "</style>\n",
       "<table border=\"1\" class=\"dataframe\">\n",
       "  <thead>\n",
       "    <tr style=\"text-align: right;\">\n",
       "      <th></th>\n",
       "      <th>model</th>\n",
       "      <th>mpg</th>\n",
       "      <th>cyl</th>\n",
       "      <th>disp</th>\n",
       "      <th>hp</th>\n",
       "      <th>drat</th>\n",
       "      <th>wt</th>\n",
       "      <th>qsec</th>\n",
       "      <th>vs</th>\n",
       "      <th>am</th>\n",
       "      <th>gear</th>\n",
       "      <th>carb</th>\n",
       "    </tr>\n",
       "  </thead>\n",
       "  <tbody>\n",
       "    <tr>\n",
       "      <th>17</th>\n",
       "      <td>Fiat 128</td>\n",
       "      <td>32.4</td>\n",
       "      <td>4</td>\n",
       "      <td>78.7</td>\n",
       "      <td>66</td>\n",
       "      <td>4.08</td>\n",
       "      <td>2.200</td>\n",
       "      <td>19.47</td>\n",
       "      <td>1</td>\n",
       "      <td>1</td>\n",
       "      <td>4</td>\n",
       "      <td>1</td>\n",
       "    </tr>\n",
       "    <tr>\n",
       "      <th>18</th>\n",
       "      <td>Honda Civic</td>\n",
       "      <td>30.4</td>\n",
       "      <td>4</td>\n",
       "      <td>75.7</td>\n",
       "      <td>52</td>\n",
       "      <td>4.93</td>\n",
       "      <td>1.615</td>\n",
       "      <td>18.52</td>\n",
       "      <td>1</td>\n",
       "      <td>1</td>\n",
       "      <td>4</td>\n",
       "      <td>2</td>\n",
       "    </tr>\n",
       "    <tr>\n",
       "      <th>19</th>\n",
       "      <td>Toyota Corolla</td>\n",
       "      <td>33.9</td>\n",
       "      <td>4</td>\n",
       "      <td>71.1</td>\n",
       "      <td>65</td>\n",
       "      <td>4.22</td>\n",
       "      <td>1.835</td>\n",
       "      <td>19.90</td>\n",
       "      <td>1</td>\n",
       "      <td>1</td>\n",
       "      <td>4</td>\n",
       "      <td>1</td>\n",
       "    </tr>\n",
       "    <tr>\n",
       "      <th>27</th>\n",
       "      <td>Lotus Europa</td>\n",
       "      <td>30.4</td>\n",
       "      <td>4</td>\n",
       "      <td>95.1</td>\n",
       "      <td>113</td>\n",
       "      <td>3.77</td>\n",
       "      <td>1.513</td>\n",
       "      <td>16.90</td>\n",
       "      <td>1</td>\n",
       "      <td>1</td>\n",
       "      <td>5</td>\n",
       "      <td>2</td>\n",
       "    </tr>\n",
       "  </tbody>\n",
       "</table>\n",
       "</div>"
      ],
      "text/plain": [
       "             model   mpg  cyl  disp   hp  drat     wt   qsec  vs  am  gear  \\\n",
       "17        Fiat 128  32.4    4  78.7   66  4.08  2.200  19.47   1   1     4   \n",
       "18     Honda Civic  30.4    4  75.7   52  4.93  1.615  18.52   1   1     4   \n",
       "19  Toyota Corolla  33.9    4  71.1   65  4.22  1.835  19.90   1   1     4   \n",
       "27    Lotus Europa  30.4    4  95.1  113  3.77  1.513  16.90   1   1     5   \n",
       "\n",
       "    carb  \n",
       "17     1  \n",
       "18     2  \n",
       "19     1  \n",
       "27     2  "
      ]
     },
     "execution_count": 16,
     "metadata": {},
     "output_type": "execute_result"
    }
   ],
   "source": [
    "Cylinders4_mpgn"
   ]
  },
  {
   "cell_type": "markdown",
   "id": "5f97b0fe-19bc-4cfd-999b-16ff1966c932",
   "metadata": {},
   "source": [
    "## Grouping data\n",
    "\n",
    "If you want to count the number of cars by the number of cylinders they have then you can use the following code. In the `groupby()` you need to add the column name that you want to group by using square brackets. In this example the number of cylinders (cyl), then we use the `size()` function to count the number of rows and therefore cars. Finally, we use the `reset_index()` function to give our summation a name of \"number of cars\".\n",
    "\n",
    "Here we use `\\` to tell Python that we want to put our code on a new line for neatness. By doing this, we must indent our code by pressing the tab key on your keyboard."
   ]
  },
  {
   "cell_type": "code",
   "execution_count": 17,
   "id": "699ce13e-972f-4147-a85a-3d67c3443e0e",
   "metadata": {},
   "outputs": [],
   "source": [
    "Num_cars = mtcars \\\n",
    "  .groupby(['cyl']) \\\n",
    "  .size() \\\n",
    "  .reset_index(name = \"number_of_cars\")"
   ]
  },
  {
   "cell_type": "code",
   "execution_count": 18,
   "id": "4ae2846d-ba50-4e21-ab7f-45b7e8f79ee2",
   "metadata": {},
   "outputs": [
    {
     "data": {
      "text/html": [
       "<div>\n",
       "<style scoped>\n",
       "    .dataframe tbody tr th:only-of-type {\n",
       "        vertical-align: middle;\n",
       "    }\n",
       "\n",
       "    .dataframe tbody tr th {\n",
       "        vertical-align: top;\n",
       "    }\n",
       "\n",
       "    .dataframe thead th {\n",
       "        text-align: right;\n",
       "    }\n",
       "</style>\n",
       "<table border=\"1\" class=\"dataframe\">\n",
       "  <thead>\n",
       "    <tr style=\"text-align: right;\">\n",
       "      <th></th>\n",
       "      <th>cyl</th>\n",
       "      <th>number_of_cars</th>\n",
       "    </tr>\n",
       "  </thead>\n",
       "  <tbody>\n",
       "    <tr>\n",
       "      <th>0</th>\n",
       "      <td>4</td>\n",
       "      <td>11</td>\n",
       "    </tr>\n",
       "    <tr>\n",
       "      <th>1</th>\n",
       "      <td>6</td>\n",
       "      <td>7</td>\n",
       "    </tr>\n",
       "    <tr>\n",
       "      <th>2</th>\n",
       "      <td>8</td>\n",
       "      <td>14</td>\n",
       "    </tr>\n",
       "  </tbody>\n",
       "</table>\n",
       "</div>"
      ],
      "text/plain": [
       "   cyl  number_of_cars\n",
       "0    4              11\n",
       "1    6               7\n",
       "2    8              14"
      ]
     },
     "execution_count": 18,
     "metadata": {},
     "output_type": "execute_result"
    }
   ],
   "source": [
    "Num_cars"
   ]
  },
  {
   "cell_type": "markdown",
   "id": "928cde80-223f-42b9-8988-e7a5de536aff",
   "metadata": {},
   "source": [
    "# Drawing a graph\n",
    "\n",
    "We will use the `pandas` package once more to draw a bar chart and use the `matplotlib` package to ammend and show the plot. In this example, we are plotting number of cars by the number of cylinders they have. \n",
    "\n",
    "Using the `plot()` function, we specifiy our x and y axis and the kind of graph that we want. In this, we use \"bar\" for a barchart. if you wanted to draw a line graph instead this would be `kind = \"line\"`. We use `plt.show()` to display the graph within the notebook.\n",
    "\n",
    "This session just covers the very basics of drawing a graph, at the end of the document there is a links to resources which contain example code and details of other options and parameters you can change and include in graphs.  "
   ]
  },
  {
   "cell_type": "code",
   "execution_count": 36,
   "id": "da342207-16df-4309-bdc4-55281f2db915",
   "metadata": {},
   "outputs": [],
   "source": [
    "from matplotlib import pyplot as plt"
   ]
  },
  {
   "cell_type": "code",
   "execution_count": 38,
   "id": "b8495025-4213-4578-989f-07b19ee8926f",
   "metadata": {},
   "outputs": [
    {
     "data": {
      "image/png": "[encoded data removed]",
      "text/plain": [
       "<Figure size 432x288 with 1 Axes>"
      ]
     },
     "metadata": {
      "needs_background": "light"
     },
     "output_type": "display_data"
    }
   ],
   "source": [
    "Num_cars.plot(x = \"cyl\", y = \"number_of_cars\", kind = \"bar\")\n",
    "plt.show()"
   ]
  },
  {
   "cell_type": "markdown",
   "id": "32dfb94f-d17b-4b28-b5a3-36ee6d902db1",
   "metadata": {},
   "source": [
    "## Change the size of the chart\n",
    "\n",
    "By default, the size of any graph is small. by adding `figsize = ()`, you can specify your own size. The first element is the width and the second element is the height."
   ]
  },
  {
   "cell_type": "code",
   "execution_count": 39,
   "id": "a1827f8a-4071-4e42-af9f-1281abbe0bf6",
   "metadata": {},
   "outputs": [
    {
     "data": {
      "image/png": "[encoded data removed]",
      "text/plain": [
       "<Figure size 864x432 with 1 Axes>"
      ]
     },
     "metadata": {
      "needs_background": "light"
     },
     "output_type": "display_data"
    }
   ],
   "source": [
    "Num_cars.plot(x = \"cyl\", y = \"number_of_cars\", kind = \"bar\", figsize = (12, 6))\n",
    "plt.show()"
   ]
  },
  {
   "cell_type": "markdown",
   "id": "c0c86521-b706-4d69-aa95-00a1be507902",
   "metadata": {},
   "source": [
    "## Change the colour of the bars\n",
    "\n",
    "If you want to change the colour of your bars you can specify the colour. In this example we have specified \"green\". Buy using the color function you can manually select the colour. "
   ]
  },
  {
   "cell_type": "code",
   "execution_count": 41,
   "id": "b0937412-4d9f-4de0-a870-485e015536cd",
   "metadata": {},
   "outputs": [
    {
     "data": {
      "image/png": "[encoded data removed]",
      "text/plain": [
       "<Figure size 864x432 with 1 Axes>"
      ]
     },
     "metadata": {
      "needs_background": "light"
     },
     "output_type": "display_data"
    }
   ],
   "source": [
    "Num_cars.plot(x = \"cyl\", y = \"number_of_cars\", kind = \"bar\", figsize = (12, 6), color = \"green\")\n",
    "plt.show()"
   ]
  },
  {
   "cell_type": "markdown",
   "id": "bab5e782-a521-45dd-9961-3027be2b7184",
   "metadata": {},
   "source": [
    "If you want your bars to be different colours you can specify each individual bar colour by wrapping them in square brackets like below. There are also different colour palettes available and you can create your own colour themes.  "
   ]
  },
  {
   "cell_type": "code",
   "execution_count": 42,
   "id": "310aae00-9ed8-403c-a07a-94f726dce94a",
   "metadata": {},
   "outputs": [
    {
     "data": {
      "image/png": "[encoded data removed]",
      "text/plain": [
       "<Figure size 864x432 with 1 Axes>"
      ]
     },
     "metadata": {
      "needs_background": "light"
     },
     "output_type": "display_data"
    }
   ],
   "source": [
    "Num_cars.plot(x = \"cyl\", y = \"number_of_cars\", kind = \"bar\", figsize = (12, 6), color = [\"red\", \"blue\", \"green\"])\n",
    "plt.show()"
   ]
  },
  {
   "cell_type": "markdown",
   "id": "bb52dba5-389d-4989-a03c-8e9e068e9007",
   "metadata": {},
   "source": [
    "## Adding a title and axis to the graph\n",
    "\n",
    "You can give your graph a title and axis by using `plt.title()`, `plt.xlabel()` and  `plt.ylabel()` after the plot function. You can change the location and size of the title but we won't be covering that in this session. "
   ]
  },
  {
   "cell_type": "code",
   "execution_count": 44,
   "id": "2d6254d2-d0f0-4e7c-a910-52e4730854e9",
   "metadata": {},
   "outputs": [
    {
     "data": {
      "image/png": "[encoded data removed]",
      "text/plain": [
       "<Figure size 864x432 with 1 Axes>"
      ]
     },
     "metadata": {
      "needs_background": "light"
     },
     "output_type": "display_data"
    }
   ],
   "source": [
    "Num_cars.plot(x = \"cyl\", y = \"number_of_cars\", kind = \"bar\", figsize = (12, 6), color = \"green\")\n",
    "plt.xlabel(\"Number of Cylinders\")\n",
    "plt.ylabel(\"Number of Cars\")\n",
    "plt.title(\"Number of cars by number of Cylinders\")\n",
    "plt.show()"
   ]
  },
  {
   "cell_type": "markdown",
   "id": "a3780049-a3d9-4b4e-aff9-87e0a1ca7f60",
   "metadata": {},
   "source": [
    "# Useful resources\n",
    "\n",
    "https://www.rstudio.com/resources/cheatsheets/\n",
    "\n",
    "https://stackoverflow.com/\n",
    "\n",
    "https://www.datacamp.com/courses/free-introduction-to-r"
   ]
  }
 ],
 "metadata": {
  "kernelspec": {
   "display_name": "Python 3 (ipykernel)",
   "language": "python",
   "name": "python3"
  },
  "language_info": {
   "codemirror_mode": {
    "name": "ipython",
    "version": 3
   },
   "file_extension": ".py",
   "mimetype": "text/x-python",
   "name": "python",
   "nbconvert_exporter": "python",
   "pygments_lexer": "ipython3",
   "version": "3.8.13"
  }
 },
 "nbformat": 4,
 "nbformat_minor": 5
}
